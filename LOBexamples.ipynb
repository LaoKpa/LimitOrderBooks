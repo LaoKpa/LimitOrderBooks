{
 "cells": [
  {
   "cell_type": "markdown",
   "metadata": {},
   "source": [
    "# Queue Functions"
   ]
  },
  {
   "cell_type": "markdown",
   "metadata": {},
   "source": [
    "## Import packages"
   ]
  },
  {
   "cell_type": "code",
   "execution_count": 1,
   "metadata": {},
   "outputs": [],
   "source": [
    "import numpy as np\n",
    "import pandas as pd\n",
    "import matplotlib.pyplot as plt\n",
    "import seaborn as sns"
   ]
  },
  {
   "cell_type": "markdown",
   "metadata": {},
   "source": [
    "## Reading orders"
   ]
  },
  {
   "cell_type": "code",
   "execution_count": 3,
   "metadata": {},
   "outputs": [],
   "source": [
    "def readorder(o):\n",
    "    ot=o['OrderType']\n",
    "    bs=o['Direction']\n",
    "    am=o['Quantity']\n",
    "    p=o['Price']\n",
    "    dt=o['Date']\n",
    "    tr=o['Trader']\n",
    "    oid=o['OrderId']\n",
    "    oc=o['OrderCaracteristics']\n",
    "    return {'OrderType':ot,'Direction':bs,\\\n",
    "            'Quantity':am,'Price':p,\\\n",
    "            'Date':dt,'Trader':tr,\\\n",
    "            'OrderId':oid,'OrderCaracteristics':oc}"
   ]
  },
  {
   "cell_type": "markdown",
   "metadata": {},
   "source": [
    "1. 'OrderType':ot ('L','M','C')\n",
    "2. 'Direction':bs ('B','S')\n",
    "3. 'Quantity':am\n",
    "4. 'Price':p\n",
    "5. 'Date':dt\n",
    "6. 'Trader':tr\n",
    "7. 'OrderId':oid\n",
    "8. 'OrderCaracteristics':oc"
   ]
  },
  {
   "cell_type": "markdown",
   "metadata": {},
   "source": [
    "## The logic"
   ]
  },
  {
   "cell_type": "markdown",
   "metadata": {},
   "source": [
    "Two dicts: Buy Queue and Sell Queue (bq and sq), indexed by prices"
   ]
  },
  {
   "cell_type": "markdown",
   "metadata": {},
   "source": [
    "Trading phases (indicated by status: tp):\n",
    "\n",
    "a. Pre-matching ('PM'): only add and cancel in queues, each independent - no matching\n",
    "\n",
    "b. Opening auction ('OA'): match both queues; to cheat, we take trades marked as OpeningAuction and cancel them from queue\n",
    "\n",
    "c. Normal matching ('NM'): orders are checked against opposite queue first before adding"
   ]
  },
  {
   "cell_type": "markdown",
   "metadata": {},
   "source": [
    "For now, book is aggregated (no individual orders), but readrorder has individual order information to improve this in a later stage"
   ]
  },
  {
   "cell_type": "markdown",
   "metadata": {},
   "source": [
    "Event and order classifications:\n",
    "\n",
    "Event Types (ot):\n",
    "\n",
    "a. Inclusion\n",
    "\n",
    "    a.1 Limit order ('L')\n",
    "    \n",
    "    a.2 Market order ('M')\n",
    "    \n",
    "b. Cancel ('C')"
   ]
  },
  {
   "cell_type": "markdown",
   "metadata": {},
   "source": [
    "Event processing:\n",
    "\n",
    "f(bq,sq,tp,order)=>(nbq,nsq,dtrd,success)\n",
    "\n",
    "Where:\n",
    "\n",
    "-order includes the ot information\n",
    "\n",
    "-nbq and nsq are the new buy and sell queues\n",
    "\n",
    "-dtrd is a dict of the trades triggered by order\n",
    "\n",
    "-success is a flag that is True if the cancel was successful and False if not\n",
    "    or True if a market order filled totally and False if not"
   ]
  },
  {
   "cell_type": "markdown",
   "metadata": {},
   "source": [
    "## The basic queue functions"
   ]
  },
  {
   "cell_type": "markdown",
   "metadata": {},
   "source": [
    "### Queue examples"
   ]
  },
  {
   "cell_type": "code",
   "execution_count": 2,
   "metadata": {},
   "outputs": [],
   "source": [
    "bq1={97:30,99:20,98:40,100:10,96:5}\n",
    "sq1={102:30,101:20,103:40,104:10,105:5}\n",
    "dtrd1={100:20,101:30}"
   ]
  },
  {
   "cell_type": "markdown",
   "metadata": {},
   "source": [
    "### Retrieval"
   ]
  },
  {
   "cell_type": "code",
   "execution_count": 5,
   "metadata": {},
   "outputs": [],
   "source": [
    "def first(q):\n",
    "    return list(sorted(q.items()))[0]\n",
    "\n",
    "def firstn(q,n):\n",
    "    return dict(list(sorted(q.items()))[:n])\n",
    "\n",
    "def last(q):\n",
    "    return list(sorted(q.items()))[-1]\n",
    "\n",
    "def lastn(q,n):\n",
    "    return dict(list(sorted(q.items()))[-n:])\n",
    "\n",
    "def bestba(bq,sq):\n",
    "    bfb=True\n",
    "    bfa=True\n",
    "    try:\n",
    "        bestb=last(bq)[0]\n",
    "    except:\n",
    "        bestb=0\n",
    "        bfb=False\n",
    "    try:\n",
    "        besta=first(sq)[0]\n",
    "    except:\n",
    "        besta=0\n",
    "        bfa=False\n",
    "    return [bestb,besta,bfb,bfa]\n",
    "\n",
    "def totam(q):\n",
    "    return sum(q.values())"
   ]
  },
  {
   "cell_type": "code",
   "execution_count": 6,
   "metadata": {},
   "outputs": [
    {
     "data": {
      "text/plain": [
       "[(101, 20), {101: 20, 102: 30}]"
      ]
     },
     "execution_count": 6,
     "metadata": {},
     "output_type": "execute_result"
    }
   ],
   "source": [
    "[first(sq1),firstn(sq1,2)]"
   ]
  },
  {
   "cell_type": "code",
   "execution_count": 7,
   "metadata": {},
   "outputs": [
    {
     "data": {
      "text/plain": [
       "[(100, 10), {99: 20, 100: 10}]"
      ]
     },
     "execution_count": 7,
     "metadata": {},
     "output_type": "execute_result"
    }
   ],
   "source": [
    "[last(bq1),lastn(bq1,2)]"
   ]
  },
  {
   "cell_type": "code",
   "execution_count": 8,
   "metadata": {},
   "outputs": [
    {
     "data": {
      "text/plain": [
       "[100, 101, True, True]"
      ]
     },
     "execution_count": 8,
     "metadata": {},
     "output_type": "execute_result"
    }
   ],
   "source": [
    "bestba(bq1,sq1)"
   ]
  },
  {
   "cell_type": "code",
   "execution_count": 9,
   "metadata": {},
   "outputs": [
    {
     "data": {
      "text/plain": [
       "[100, 0, True, False]"
      ]
     },
     "execution_count": 9,
     "metadata": {},
     "output_type": "execute_result"
    }
   ],
   "source": [
    "bestba(bq1,{})"
   ]
  },
  {
   "cell_type": "code",
   "execution_count": 10,
   "metadata": {},
   "outputs": [
    {
     "data": {
      "text/plain": [
       "[0, 101, False, True]"
      ]
     },
     "execution_count": 10,
     "metadata": {},
     "output_type": "execute_result"
    }
   ],
   "source": [
    "bestba({},sq1)"
   ]
  },
  {
   "cell_type": "code",
   "execution_count": 11,
   "metadata": {},
   "outputs": [
    {
     "data": {
      "text/plain": [
       "105"
      ]
     },
     "execution_count": 11,
     "metadata": {},
     "output_type": "execute_result"
    }
   ],
   "source": [
    "totam(bq1)"
   ]
  },
  {
   "cell_type": "code",
   "execution_count": 12,
   "metadata": {},
   "outputs": [
    {
     "data": {
      "text/plain": [
       "105"
      ]
     },
     "execution_count": 12,
     "metadata": {},
     "output_type": "execute_result"
    }
   ],
   "source": [
    "totam(sq1)"
   ]
  },
  {
   "cell_type": "markdown",
   "metadata": {},
   "source": [
    "### Sort queues"
   ]
  },
  {
   "cell_type": "code",
   "execution_count": 13,
   "metadata": {},
   "outputs": [],
   "source": [
    "def sortd(q):\n",
    "    return dict(sorted(q.items()))"
   ]
  },
  {
   "cell_type": "code",
   "execution_count": 14,
   "metadata": {},
   "outputs": [
    {
     "data": {
      "text/plain": [
       "{96: 5, 97: 30, 98: 40, 99: 20, 100: 10}"
      ]
     },
     "execution_count": 14,
     "metadata": {},
     "output_type": "execute_result"
    }
   ],
   "source": [
    "sortd(bq1)"
   ]
  },
  {
   "cell_type": "markdown",
   "metadata": {},
   "source": [
    "### Clean zeros"
   ]
  },
  {
   "cell_type": "code",
   "execution_count": 15,
   "metadata": {},
   "outputs": [],
   "source": [
    "def nonzeroq(q):\n",
    "    return dict(((k,v) for (k,v) in q.items() if v!=0))"
   ]
  },
  {
   "cell_type": "code",
   "execution_count": 16,
   "metadata": {},
   "outputs": [
    {
     "data": {
      "text/plain": [
       "{96: 5, 97: 30, 99: 20, 100: 10}"
      ]
     },
     "execution_count": 16,
     "metadata": {},
     "output_type": "execute_result"
    }
   ],
   "source": [
    "nonzeroq({97:30,99:20,98:0,100:10,96:5})"
   ]
  },
  {
   "cell_type": "markdown",
   "metadata": {},
   "source": [
    "### Queues to DataFrames and vice-versa"
   ]
  },
  {
   "cell_type": "code",
   "execution_count": 3,
   "metadata": {},
   "outputs": [],
   "source": [
    "def qtodf(q,qn,rev=False):\n",
    "    # rev is a variable that should be False as a default \n",
    "    # (ascending sort order); in the Buy Queue it can be \n",
    "    # used as True for the cumulative queue\n",
    "    if qn=='T':\n",
    "        df=pd.DataFrame.from_dict(q,orient='index')\n",
    "        df.index.name='Price'\n",
    "        try:\n",
    "            df.columns=['Quantity']\n",
    "        except:\n",
    "            pass\n",
    "        return df\n",
    "    else:\n",
    "        if qn=='B':\n",
    "            qcol='QtBid'\n",
    "        else:\n",
    "            qcol='QtAsk'\n",
    "        df=pd.DataFrame(sorted(q.items()),\\\n",
    "                columns=['Price',qcol])\\\n",
    "                .set_index('Price')\n",
    "        df.sort_index(ascending=not(rev),inplace=True)\n",
    "        return df\n",
    "    \n",
    "def bsqtodf(bq,sq):\n",
    "    dfbq=qtodf(bq,'B')\n",
    "    dfsq=qtodf(sq,'S')\n",
    "    dfq=pd.concat([dfbq,dfsq])\n",
    "    return dfq\n",
    "    \n",
    "def bsqtodf1(bq,sq):\n",
    "    dfbq=qtodf(bq,'B')\n",
    "    dfsq=qtodf(sq,'S')\n",
    "    dfq=pd.concat([dfbq,dfsq],axis=1)\n",
    "    return dfq\n",
    "\n",
    "def bsqntodf(bq,sq,n):\n",
    "    dfbq=qtodf(lastn(bq,n),'B')\n",
    "    dfsq=qtodf(firstn(sq,n),'S')\n",
    "    dfq=pd.concat([dfbq,dfsq])\n",
    "    return dfq\n",
    "\n",
    "def bsqntodf1(bq,sq,n):\n",
    "    dfbq=qtodf(lastn(bq,n),'B')\n",
    "    dfsq=qtodf(firstn(sq,n),'S')\n",
    "    dfq=pd.concat([dfbq,dfsq],axis=1)\n",
    "    return dfq\n",
    "\n",
    "# The functions bsqtodf1 and bsqntodf1 will be useful\n",
    "# during the pre-matching, where the same price will\n",
    "# have both Bid and Ask amounts"
   ]
  },
  {
   "cell_type": "code",
   "execution_count": 18,
   "metadata": {},
   "outputs": [
    {
     "data": {
      "text/html": [
       "<div>\n",
       "<style scoped>\n",
       "    .dataframe tbody tr th:only-of-type {\n",
       "        vertical-align: middle;\n",
       "    }\n",
       "\n",
       "    .dataframe tbody tr th {\n",
       "        vertical-align: top;\n",
       "    }\n",
       "\n",
       "    .dataframe thead th {\n",
       "        text-align: right;\n",
       "    }\n",
       "</style>\n",
       "<table border=\"1\" class=\"dataframe\">\n",
       "  <thead>\n",
       "    <tr style=\"text-align: right;\">\n",
       "      <th></th>\n",
       "      <th>QtBid</th>\n",
       "    </tr>\n",
       "    <tr>\n",
       "      <th>Price</th>\n",
       "      <th></th>\n",
       "    </tr>\n",
       "  </thead>\n",
       "  <tbody>\n",
       "    <tr>\n",
       "      <th>100</th>\n",
       "      <td>10</td>\n",
       "    </tr>\n",
       "    <tr>\n",
       "      <th>99</th>\n",
       "      <td>20</td>\n",
       "    </tr>\n",
       "    <tr>\n",
       "      <th>98</th>\n",
       "      <td>40</td>\n",
       "    </tr>\n",
       "    <tr>\n",
       "      <th>97</th>\n",
       "      <td>30</td>\n",
       "    </tr>\n",
       "    <tr>\n",
       "      <th>96</th>\n",
       "      <td>5</td>\n",
       "    </tr>\n",
       "  </tbody>\n",
       "</table>\n",
       "</div>"
      ],
      "text/plain": [
       "       QtBid\n",
       "Price       \n",
       "100       10\n",
       "99        20\n",
       "98        40\n",
       "97        30\n",
       "96         5"
      ]
     },
     "execution_count": 18,
     "metadata": {},
     "output_type": "execute_result"
    }
   ],
   "source": [
    "qtodf(bq1,'B',True)"
   ]
  },
  {
   "cell_type": "code",
   "execution_count": 19,
   "metadata": {},
   "outputs": [
    {
     "data": {
      "text/html": [
       "<div>\n",
       "<style scoped>\n",
       "    .dataframe tbody tr th:only-of-type {\n",
       "        vertical-align: middle;\n",
       "    }\n",
       "\n",
       "    .dataframe tbody tr th {\n",
       "        vertical-align: top;\n",
       "    }\n",
       "\n",
       "    .dataframe thead th {\n",
       "        text-align: right;\n",
       "    }\n",
       "</style>\n",
       "<table border=\"1\" class=\"dataframe\">\n",
       "  <thead>\n",
       "    <tr style=\"text-align: right;\">\n",
       "      <th></th>\n",
       "      <th>QtAsk</th>\n",
       "    </tr>\n",
       "    <tr>\n",
       "      <th>Price</th>\n",
       "      <th></th>\n",
       "    </tr>\n",
       "  </thead>\n",
       "  <tbody>\n",
       "    <tr>\n",
       "      <th>101</th>\n",
       "      <td>20</td>\n",
       "    </tr>\n",
       "    <tr>\n",
       "      <th>102</th>\n",
       "      <td>30</td>\n",
       "    </tr>\n",
       "    <tr>\n",
       "      <th>103</th>\n",
       "      <td>40</td>\n",
       "    </tr>\n",
       "    <tr>\n",
       "      <th>104</th>\n",
       "      <td>10</td>\n",
       "    </tr>\n",
       "    <tr>\n",
       "      <th>105</th>\n",
       "      <td>5</td>\n",
       "    </tr>\n",
       "  </tbody>\n",
       "</table>\n",
       "</div>"
      ],
      "text/plain": [
       "       QtAsk\n",
       "Price       \n",
       "101       20\n",
       "102       30\n",
       "103       40\n",
       "104       10\n",
       "105        5"
      ]
     },
     "execution_count": 19,
     "metadata": {},
     "output_type": "execute_result"
    }
   ],
   "source": [
    "qtodf(sq1,'S')"
   ]
  },
  {
   "cell_type": "code",
   "execution_count": 20,
   "metadata": {},
   "outputs": [
    {
     "data": {
      "text/html": [
       "<div>\n",
       "<style scoped>\n",
       "    .dataframe tbody tr th:only-of-type {\n",
       "        vertical-align: middle;\n",
       "    }\n",
       "\n",
       "    .dataframe tbody tr th {\n",
       "        vertical-align: top;\n",
       "    }\n",
       "\n",
       "    .dataframe thead th {\n",
       "        text-align: right;\n",
       "    }\n",
       "</style>\n",
       "<table border=\"1\" class=\"dataframe\">\n",
       "  <thead>\n",
       "    <tr style=\"text-align: right;\">\n",
       "      <th></th>\n",
       "      <th>QtAsk</th>\n",
       "      <th>QtBid</th>\n",
       "    </tr>\n",
       "    <tr>\n",
       "      <th>Price</th>\n",
       "      <th></th>\n",
       "      <th></th>\n",
       "    </tr>\n",
       "  </thead>\n",
       "  <tbody>\n",
       "    <tr>\n",
       "      <th>96</th>\n",
       "      <td>NaN</td>\n",
       "      <td>5.0</td>\n",
       "    </tr>\n",
       "    <tr>\n",
       "      <th>97</th>\n",
       "      <td>NaN</td>\n",
       "      <td>30.0</td>\n",
       "    </tr>\n",
       "    <tr>\n",
       "      <th>98</th>\n",
       "      <td>NaN</td>\n",
       "      <td>40.0</td>\n",
       "    </tr>\n",
       "    <tr>\n",
       "      <th>99</th>\n",
       "      <td>NaN</td>\n",
       "      <td>20.0</td>\n",
       "    </tr>\n",
       "    <tr>\n",
       "      <th>100</th>\n",
       "      <td>NaN</td>\n",
       "      <td>10.0</td>\n",
       "    </tr>\n",
       "    <tr>\n",
       "      <th>101</th>\n",
       "      <td>20.0</td>\n",
       "      <td>NaN</td>\n",
       "    </tr>\n",
       "    <tr>\n",
       "      <th>102</th>\n",
       "      <td>30.0</td>\n",
       "      <td>NaN</td>\n",
       "    </tr>\n",
       "    <tr>\n",
       "      <th>103</th>\n",
       "      <td>40.0</td>\n",
       "      <td>NaN</td>\n",
       "    </tr>\n",
       "    <tr>\n",
       "      <th>104</th>\n",
       "      <td>10.0</td>\n",
       "      <td>NaN</td>\n",
       "    </tr>\n",
       "    <tr>\n",
       "      <th>105</th>\n",
       "      <td>5.0</td>\n",
       "      <td>NaN</td>\n",
       "    </tr>\n",
       "  </tbody>\n",
       "</table>\n",
       "</div>"
      ],
      "text/plain": [
       "       QtAsk  QtBid\n",
       "Price              \n",
       "96       NaN    5.0\n",
       "97       NaN   30.0\n",
       "98       NaN   40.0\n",
       "99       NaN   20.0\n",
       "100      NaN   10.0\n",
       "101     20.0    NaN\n",
       "102     30.0    NaN\n",
       "103     40.0    NaN\n",
       "104     10.0    NaN\n",
       "105      5.0    NaN"
      ]
     },
     "execution_count": 20,
     "metadata": {},
     "output_type": "execute_result"
    }
   ],
   "source": [
    "bsqtodf(bq1,sq1)"
   ]
  },
  {
   "cell_type": "code",
   "execution_count": 25,
   "metadata": {},
   "outputs": [
    {
     "data": {
      "text/html": [
       "<div>\n",
       "<style scoped>\n",
       "    .dataframe tbody tr th:only-of-type {\n",
       "        vertical-align: middle;\n",
       "    }\n",
       "\n",
       "    .dataframe tbody tr th {\n",
       "        vertical-align: top;\n",
       "    }\n",
       "\n",
       "    .dataframe thead th {\n",
       "        text-align: right;\n",
       "    }\n",
       "</style>\n",
       "<table border=\"1\" class=\"dataframe\">\n",
       "  <thead>\n",
       "    <tr style=\"text-align: right;\">\n",
       "      <th></th>\n",
       "      <th>QtBid</th>\n",
       "      <th>QtAsk</th>\n",
       "    </tr>\n",
       "    <tr>\n",
       "      <th>Price</th>\n",
       "      <th></th>\n",
       "      <th></th>\n",
       "    </tr>\n",
       "  </thead>\n",
       "  <tbody>\n",
       "    <tr>\n",
       "      <th>96</th>\n",
       "      <td>5.0</td>\n",
       "      <td>NaN</td>\n",
       "    </tr>\n",
       "    <tr>\n",
       "      <th>97</th>\n",
       "      <td>30.0</td>\n",
       "      <td>NaN</td>\n",
       "    </tr>\n",
       "    <tr>\n",
       "      <th>98</th>\n",
       "      <td>40.0</td>\n",
       "      <td>NaN</td>\n",
       "    </tr>\n",
       "    <tr>\n",
       "      <th>99</th>\n",
       "      <td>20.0</td>\n",
       "      <td>NaN</td>\n",
       "    </tr>\n",
       "    <tr>\n",
       "      <th>100</th>\n",
       "      <td>10.0</td>\n",
       "      <td>NaN</td>\n",
       "    </tr>\n",
       "    <tr>\n",
       "      <th>101</th>\n",
       "      <td>NaN</td>\n",
       "      <td>20.0</td>\n",
       "    </tr>\n",
       "    <tr>\n",
       "      <th>102</th>\n",
       "      <td>NaN</td>\n",
       "      <td>30.0</td>\n",
       "    </tr>\n",
       "    <tr>\n",
       "      <th>103</th>\n",
       "      <td>NaN</td>\n",
       "      <td>40.0</td>\n",
       "    </tr>\n",
       "    <tr>\n",
       "      <th>104</th>\n",
       "      <td>NaN</td>\n",
       "      <td>10.0</td>\n",
       "    </tr>\n",
       "    <tr>\n",
       "      <th>105</th>\n",
       "      <td>NaN</td>\n",
       "      <td>5.0</td>\n",
       "    </tr>\n",
       "  </tbody>\n",
       "</table>\n",
       "</div>"
      ],
      "text/plain": [
       "       QtBid  QtAsk\n",
       "Price              \n",
       "96       5.0    NaN\n",
       "97      30.0    NaN\n",
       "98      40.0    NaN\n",
       "99      20.0    NaN\n",
       "100     10.0    NaN\n",
       "101      NaN   20.0\n",
       "102      NaN   30.0\n",
       "103      NaN   40.0\n",
       "104      NaN   10.0\n",
       "105      NaN    5.0"
      ]
     },
     "execution_count": 25,
     "metadata": {},
     "output_type": "execute_result"
    }
   ],
   "source": [
    "bsqtodf1(bq1,sq1)"
   ]
  },
  {
   "cell_type": "code",
   "execution_count": 26,
   "metadata": {},
   "outputs": [
    {
     "data": {
      "text/html": [
       "<div>\n",
       "<style scoped>\n",
       "    .dataframe tbody tr th:only-of-type {\n",
       "        vertical-align: middle;\n",
       "    }\n",
       "\n",
       "    .dataframe tbody tr th {\n",
       "        vertical-align: top;\n",
       "    }\n",
       "\n",
       "    .dataframe thead th {\n",
       "        text-align: right;\n",
       "    }\n",
       "</style>\n",
       "<table border=\"1\" class=\"dataframe\">\n",
       "  <thead>\n",
       "    <tr style=\"text-align: right;\">\n",
       "      <th></th>\n",
       "      <th>QtAsk</th>\n",
       "      <th>QtBid</th>\n",
       "    </tr>\n",
       "    <tr>\n",
       "      <th>Price</th>\n",
       "      <th></th>\n",
       "      <th></th>\n",
       "    </tr>\n",
       "  </thead>\n",
       "  <tbody>\n",
       "    <tr>\n",
       "      <th>99</th>\n",
       "      <td>NaN</td>\n",
       "      <td>20.0</td>\n",
       "    </tr>\n",
       "    <tr>\n",
       "      <th>100</th>\n",
       "      <td>NaN</td>\n",
       "      <td>10.0</td>\n",
       "    </tr>\n",
       "    <tr>\n",
       "      <th>101</th>\n",
       "      <td>20.0</td>\n",
       "      <td>NaN</td>\n",
       "    </tr>\n",
       "    <tr>\n",
       "      <th>102</th>\n",
       "      <td>30.0</td>\n",
       "      <td>NaN</td>\n",
       "    </tr>\n",
       "  </tbody>\n",
       "</table>\n",
       "</div>"
      ],
      "text/plain": [
       "       QtAsk  QtBid\n",
       "Price              \n",
       "99       NaN   20.0\n",
       "100      NaN   10.0\n",
       "101     20.0    NaN\n",
       "102     30.0    NaN"
      ]
     },
     "execution_count": 26,
     "metadata": {},
     "output_type": "execute_result"
    }
   ],
   "source": [
    "bsqntodf(bq1,sq1,2)"
   ]
  },
  {
   "cell_type": "code",
   "execution_count": 27,
   "metadata": {},
   "outputs": [
    {
     "data": {
      "text/html": [
       "<div>\n",
       "<style scoped>\n",
       "    .dataframe tbody tr th:only-of-type {\n",
       "        vertical-align: middle;\n",
       "    }\n",
       "\n",
       "    .dataframe tbody tr th {\n",
       "        vertical-align: top;\n",
       "    }\n",
       "\n",
       "    .dataframe thead th {\n",
       "        text-align: right;\n",
       "    }\n",
       "</style>\n",
       "<table border=\"1\" class=\"dataframe\">\n",
       "  <thead>\n",
       "    <tr style=\"text-align: right;\">\n",
       "      <th></th>\n",
       "      <th>QtBid</th>\n",
       "      <th>QtAsk</th>\n",
       "    </tr>\n",
       "    <tr>\n",
       "      <th>Price</th>\n",
       "      <th></th>\n",
       "      <th></th>\n",
       "    </tr>\n",
       "  </thead>\n",
       "  <tbody>\n",
       "    <tr>\n",
       "      <th>99</th>\n",
       "      <td>20.0</td>\n",
       "      <td>NaN</td>\n",
       "    </tr>\n",
       "    <tr>\n",
       "      <th>100</th>\n",
       "      <td>10.0</td>\n",
       "      <td>NaN</td>\n",
       "    </tr>\n",
       "    <tr>\n",
       "      <th>101</th>\n",
       "      <td>NaN</td>\n",
       "      <td>20.0</td>\n",
       "    </tr>\n",
       "    <tr>\n",
       "      <th>102</th>\n",
       "      <td>NaN</td>\n",
       "      <td>30.0</td>\n",
       "    </tr>\n",
       "  </tbody>\n",
       "</table>\n",
       "</div>"
      ],
      "text/plain": [
       "       QtBid  QtAsk\n",
       "Price              \n",
       "99      20.0    NaN\n",
       "100     10.0    NaN\n",
       "101      NaN   20.0\n",
       "102      NaN   30.0"
      ]
     },
     "execution_count": 27,
     "metadata": {},
     "output_type": "execute_result"
    }
   ],
   "source": [
    "bsqntodf1(bq1,sq1,2)"
   ]
  },
  {
   "cell_type": "code",
   "execution_count": 22,
   "metadata": {},
   "outputs": [
    {
     "data": {
      "text/html": [
       "<div>\n",
       "<style scoped>\n",
       "    .dataframe tbody tr th:only-of-type {\n",
       "        vertical-align: middle;\n",
       "    }\n",
       "\n",
       "    .dataframe tbody tr th {\n",
       "        vertical-align: top;\n",
       "    }\n",
       "\n",
       "    .dataframe thead th {\n",
       "        text-align: right;\n",
       "    }\n",
       "</style>\n",
       "<table border=\"1\" class=\"dataframe\">\n",
       "  <thead>\n",
       "    <tr style=\"text-align: right;\">\n",
       "      <th></th>\n",
       "      <th>QtAsk</th>\n",
       "    </tr>\n",
       "    <tr>\n",
       "      <th>Price</th>\n",
       "      <th></th>\n",
       "    </tr>\n",
       "  </thead>\n",
       "  <tbody>\n",
       "  </tbody>\n",
       "</table>\n",
       "</div>"
      ],
      "text/plain": [
       "Empty DataFrame\n",
       "Columns: [QtAsk]\n",
       "Index: []"
      ]
     },
     "execution_count": 22,
     "metadata": {},
     "output_type": "execute_result"
    }
   ],
   "source": [
    "qtodf({},'S')"
   ]
  },
  {
   "cell_type": "code",
   "execution_count": 23,
   "metadata": {},
   "outputs": [
    {
     "data": {
      "text/html": [
       "<div>\n",
       "<style scoped>\n",
       "    .dataframe tbody tr th:only-of-type {\n",
       "        vertical-align: middle;\n",
       "    }\n",
       "\n",
       "    .dataframe tbody tr th {\n",
       "        vertical-align: top;\n",
       "    }\n",
       "\n",
       "    .dataframe thead th {\n",
       "        text-align: right;\n",
       "    }\n",
       "</style>\n",
       "<table border=\"1\" class=\"dataframe\">\n",
       "  <thead>\n",
       "    <tr style=\"text-align: right;\">\n",
       "      <th></th>\n",
       "      <th>Quantity</th>\n",
       "    </tr>\n",
       "    <tr>\n",
       "      <th>Price</th>\n",
       "      <th></th>\n",
       "    </tr>\n",
       "  </thead>\n",
       "  <tbody>\n",
       "    <tr>\n",
       "      <th>100</th>\n",
       "      <td>20</td>\n",
       "    </tr>\n",
       "    <tr>\n",
       "      <th>101</th>\n",
       "      <td>30</td>\n",
       "    </tr>\n",
       "  </tbody>\n",
       "</table>\n",
       "</div>"
      ],
      "text/plain": [
       "       Quantity\n",
       "Price          \n",
       "100          20\n",
       "101          30"
      ]
     },
     "execution_count": 23,
     "metadata": {},
     "output_type": "execute_result"
    }
   ],
   "source": [
    "qtodf(dtrd1,'T')"
   ]
  },
  {
   "cell_type": "code",
   "execution_count": 24,
   "metadata": {},
   "outputs": [
    {
     "data": {
      "text/html": [
       "<div>\n",
       "<style scoped>\n",
       "    .dataframe tbody tr th:only-of-type {\n",
       "        vertical-align: middle;\n",
       "    }\n",
       "\n",
       "    .dataframe tbody tr th {\n",
       "        vertical-align: top;\n",
       "    }\n",
       "\n",
       "    .dataframe thead th {\n",
       "        text-align: right;\n",
       "    }\n",
       "</style>\n",
       "<table border=\"1\" class=\"dataframe\">\n",
       "  <thead>\n",
       "    <tr style=\"text-align: right;\">\n",
       "      <th></th>\n",
       "    </tr>\n",
       "    <tr>\n",
       "      <th>Price</th>\n",
       "    </tr>\n",
       "  </thead>\n",
       "  <tbody>\n",
       "  </tbody>\n",
       "</table>\n",
       "</div>"
      ],
      "text/plain": [
       "Empty DataFrame\n",
       "Columns: []\n",
       "Index: []"
      ]
     },
     "execution_count": 24,
     "metadata": {},
     "output_type": "execute_result"
    }
   ],
   "source": [
    "qtodf({},'T')"
   ]
  },
  {
   "cell_type": "code",
   "execution_count": 4,
   "metadata": {},
   "outputs": [],
   "source": [
    "def qtodfni(q,qn,dcount,ts):\n",
    "    dfq=qtodf(q,qn)\n",
    "    dfq.reset_index(inplace=True)\n",
    "    dfq['dcount']=dcount\n",
    "    dfq['ts']=ts\n",
    "    return dfq\n",
    "\n",
    "def bsqtodfni(bq,sq,dcount,ts):\n",
    "    dfq=bsqtodf(bq,sq)\n",
    "    dfq.reset_index(inplace=True)\n",
    "    dfq['dcount']=dcount\n",
    "    dfq['ts']=ts\n",
    "    return dfq\n",
    "\n",
    "def bsqntodfni(bq,sq,n,dcount,ts):\n",
    "    dfq=bsqntodf(bq,sq,n)\n",
    "    dfq.reset_index(inplace=True)\n",
    "    dfq['dcount']=dcount\n",
    "    dfq['ts']=ts\n",
    "    return dfq"
   ]
  },
  {
   "cell_type": "code",
   "execution_count": 30,
   "metadata": {},
   "outputs": [
    {
     "data": {
      "text/html": [
       "<div>\n",
       "<style scoped>\n",
       "    .dataframe tbody tr th:only-of-type {\n",
       "        vertical-align: middle;\n",
       "    }\n",
       "\n",
       "    .dataframe tbody tr th {\n",
       "        vertical-align: top;\n",
       "    }\n",
       "\n",
       "    .dataframe thead th {\n",
       "        text-align: right;\n",
       "    }\n",
       "</style>\n",
       "<table border=\"1\" class=\"dataframe\">\n",
       "  <thead>\n",
       "    <tr style=\"text-align: right;\">\n",
       "      <th></th>\n",
       "      <th>Price</th>\n",
       "      <th>QtBid</th>\n",
       "      <th>dcount</th>\n",
       "      <th>ts</th>\n",
       "    </tr>\n",
       "  </thead>\n",
       "  <tbody>\n",
       "    <tr>\n",
       "      <th>0</th>\n",
       "      <td>96</td>\n",
       "      <td>5</td>\n",
       "      <td>1</td>\n",
       "      <td>2</td>\n",
       "    </tr>\n",
       "    <tr>\n",
       "      <th>1</th>\n",
       "      <td>97</td>\n",
       "      <td>30</td>\n",
       "      <td>1</td>\n",
       "      <td>2</td>\n",
       "    </tr>\n",
       "    <tr>\n",
       "      <th>2</th>\n",
       "      <td>98</td>\n",
       "      <td>40</td>\n",
       "      <td>1</td>\n",
       "      <td>2</td>\n",
       "    </tr>\n",
       "    <tr>\n",
       "      <th>3</th>\n",
       "      <td>99</td>\n",
       "      <td>20</td>\n",
       "      <td>1</td>\n",
       "      <td>2</td>\n",
       "    </tr>\n",
       "    <tr>\n",
       "      <th>4</th>\n",
       "      <td>100</td>\n",
       "      <td>10</td>\n",
       "      <td>1</td>\n",
       "      <td>2</td>\n",
       "    </tr>\n",
       "  </tbody>\n",
       "</table>\n",
       "</div>"
      ],
      "text/plain": [
       "   Price  QtBid  dcount  ts\n",
       "0     96      5       1   2\n",
       "1     97     30       1   2\n",
       "2     98     40       1   2\n",
       "3     99     20       1   2\n",
       "4    100     10       1   2"
      ]
     },
     "execution_count": 30,
     "metadata": {},
     "output_type": "execute_result"
    }
   ],
   "source": [
    "qtodfni(bq1,'B',1,2)"
   ]
  },
  {
   "cell_type": "code",
   "execution_count": 31,
   "metadata": {},
   "outputs": [
    {
     "data": {
      "text/html": [
       "<div>\n",
       "<style scoped>\n",
       "    .dataframe tbody tr th:only-of-type {\n",
       "        vertical-align: middle;\n",
       "    }\n",
       "\n",
       "    .dataframe tbody tr th {\n",
       "        vertical-align: top;\n",
       "    }\n",
       "\n",
       "    .dataframe thead th {\n",
       "        text-align: right;\n",
       "    }\n",
       "</style>\n",
       "<table border=\"1\" class=\"dataframe\">\n",
       "  <thead>\n",
       "    <tr style=\"text-align: right;\">\n",
       "      <th></th>\n",
       "      <th>Price</th>\n",
       "      <th>QtAsk</th>\n",
       "      <th>dcount</th>\n",
       "      <th>ts</th>\n",
       "    </tr>\n",
       "  </thead>\n",
       "  <tbody>\n",
       "    <tr>\n",
       "      <th>0</th>\n",
       "      <td>101</td>\n",
       "      <td>20</td>\n",
       "      <td>1</td>\n",
       "      <td>2</td>\n",
       "    </tr>\n",
       "    <tr>\n",
       "      <th>1</th>\n",
       "      <td>102</td>\n",
       "      <td>30</td>\n",
       "      <td>1</td>\n",
       "      <td>2</td>\n",
       "    </tr>\n",
       "    <tr>\n",
       "      <th>2</th>\n",
       "      <td>103</td>\n",
       "      <td>40</td>\n",
       "      <td>1</td>\n",
       "      <td>2</td>\n",
       "    </tr>\n",
       "    <tr>\n",
       "      <th>3</th>\n",
       "      <td>104</td>\n",
       "      <td>10</td>\n",
       "      <td>1</td>\n",
       "      <td>2</td>\n",
       "    </tr>\n",
       "    <tr>\n",
       "      <th>4</th>\n",
       "      <td>105</td>\n",
       "      <td>5</td>\n",
       "      <td>1</td>\n",
       "      <td>2</td>\n",
       "    </tr>\n",
       "  </tbody>\n",
       "</table>\n",
       "</div>"
      ],
      "text/plain": [
       "   Price  QtAsk  dcount  ts\n",
       "0    101     20       1   2\n",
       "1    102     30       1   2\n",
       "2    103     40       1   2\n",
       "3    104     10       1   2\n",
       "4    105      5       1   2"
      ]
     },
     "execution_count": 31,
     "metadata": {},
     "output_type": "execute_result"
    }
   ],
   "source": [
    "qtodfni(sq1,'S',1,2)"
   ]
  },
  {
   "cell_type": "code",
   "execution_count": 32,
   "metadata": {},
   "outputs": [
    {
     "data": {
      "text/html": [
       "<div>\n",
       "<style scoped>\n",
       "    .dataframe tbody tr th:only-of-type {\n",
       "        vertical-align: middle;\n",
       "    }\n",
       "\n",
       "    .dataframe tbody tr th {\n",
       "        vertical-align: top;\n",
       "    }\n",
       "\n",
       "    .dataframe thead th {\n",
       "        text-align: right;\n",
       "    }\n",
       "</style>\n",
       "<table border=\"1\" class=\"dataframe\">\n",
       "  <thead>\n",
       "    <tr style=\"text-align: right;\">\n",
       "      <th></th>\n",
       "      <th>Price</th>\n",
       "      <th>QtAsk</th>\n",
       "      <th>QtBid</th>\n",
       "      <th>dcount</th>\n",
       "      <th>ts</th>\n",
       "    </tr>\n",
       "  </thead>\n",
       "  <tbody>\n",
       "    <tr>\n",
       "      <th>0</th>\n",
       "      <td>96</td>\n",
       "      <td>NaN</td>\n",
       "      <td>5.0</td>\n",
       "      <td>1</td>\n",
       "      <td>2</td>\n",
       "    </tr>\n",
       "    <tr>\n",
       "      <th>1</th>\n",
       "      <td>97</td>\n",
       "      <td>NaN</td>\n",
       "      <td>30.0</td>\n",
       "      <td>1</td>\n",
       "      <td>2</td>\n",
       "    </tr>\n",
       "    <tr>\n",
       "      <th>2</th>\n",
       "      <td>98</td>\n",
       "      <td>NaN</td>\n",
       "      <td>40.0</td>\n",
       "      <td>1</td>\n",
       "      <td>2</td>\n",
       "    </tr>\n",
       "    <tr>\n",
       "      <th>3</th>\n",
       "      <td>99</td>\n",
       "      <td>NaN</td>\n",
       "      <td>20.0</td>\n",
       "      <td>1</td>\n",
       "      <td>2</td>\n",
       "    </tr>\n",
       "    <tr>\n",
       "      <th>4</th>\n",
       "      <td>100</td>\n",
       "      <td>NaN</td>\n",
       "      <td>10.0</td>\n",
       "      <td>1</td>\n",
       "      <td>2</td>\n",
       "    </tr>\n",
       "    <tr>\n",
       "      <th>5</th>\n",
       "      <td>101</td>\n",
       "      <td>20.0</td>\n",
       "      <td>NaN</td>\n",
       "      <td>1</td>\n",
       "      <td>2</td>\n",
       "    </tr>\n",
       "    <tr>\n",
       "      <th>6</th>\n",
       "      <td>102</td>\n",
       "      <td>30.0</td>\n",
       "      <td>NaN</td>\n",
       "      <td>1</td>\n",
       "      <td>2</td>\n",
       "    </tr>\n",
       "    <tr>\n",
       "      <th>7</th>\n",
       "      <td>103</td>\n",
       "      <td>40.0</td>\n",
       "      <td>NaN</td>\n",
       "      <td>1</td>\n",
       "      <td>2</td>\n",
       "    </tr>\n",
       "    <tr>\n",
       "      <th>8</th>\n",
       "      <td>104</td>\n",
       "      <td>10.0</td>\n",
       "      <td>NaN</td>\n",
       "      <td>1</td>\n",
       "      <td>2</td>\n",
       "    </tr>\n",
       "    <tr>\n",
       "      <th>9</th>\n",
       "      <td>105</td>\n",
       "      <td>5.0</td>\n",
       "      <td>NaN</td>\n",
       "      <td>1</td>\n",
       "      <td>2</td>\n",
       "    </tr>\n",
       "  </tbody>\n",
       "</table>\n",
       "</div>"
      ],
      "text/plain": [
       "   Price  QtAsk  QtBid  dcount  ts\n",
       "0     96    NaN    5.0       1   2\n",
       "1     97    NaN   30.0       1   2\n",
       "2     98    NaN   40.0       1   2\n",
       "3     99    NaN   20.0       1   2\n",
       "4    100    NaN   10.0       1   2\n",
       "5    101   20.0    NaN       1   2\n",
       "6    102   30.0    NaN       1   2\n",
       "7    103   40.0    NaN       1   2\n",
       "8    104   10.0    NaN       1   2\n",
       "9    105    5.0    NaN       1   2"
      ]
     },
     "execution_count": 32,
     "metadata": {},
     "output_type": "execute_result"
    }
   ],
   "source": [
    "bsqtodfni(bq1,sq1,1,2)"
   ]
  },
  {
   "cell_type": "code",
   "execution_count": 33,
   "metadata": {},
   "outputs": [
    {
     "data": {
      "text/html": [
       "<div>\n",
       "<style scoped>\n",
       "    .dataframe tbody tr th:only-of-type {\n",
       "        vertical-align: middle;\n",
       "    }\n",
       "\n",
       "    .dataframe tbody tr th {\n",
       "        vertical-align: top;\n",
       "    }\n",
       "\n",
       "    .dataframe thead th {\n",
       "        text-align: right;\n",
       "    }\n",
       "</style>\n",
       "<table border=\"1\" class=\"dataframe\">\n",
       "  <thead>\n",
       "    <tr style=\"text-align: right;\">\n",
       "      <th></th>\n",
       "      <th>Price</th>\n",
       "      <th>QtAsk</th>\n",
       "      <th>QtBid</th>\n",
       "      <th>dcount</th>\n",
       "      <th>ts</th>\n",
       "    </tr>\n",
       "  </thead>\n",
       "  <tbody>\n",
       "    <tr>\n",
       "      <th>0</th>\n",
       "      <td>99</td>\n",
       "      <td>NaN</td>\n",
       "      <td>20.0</td>\n",
       "      <td>10</td>\n",
       "      <td>20</td>\n",
       "    </tr>\n",
       "    <tr>\n",
       "      <th>1</th>\n",
       "      <td>100</td>\n",
       "      <td>NaN</td>\n",
       "      <td>10.0</td>\n",
       "      <td>10</td>\n",
       "      <td>20</td>\n",
       "    </tr>\n",
       "    <tr>\n",
       "      <th>2</th>\n",
       "      <td>101</td>\n",
       "      <td>20.0</td>\n",
       "      <td>NaN</td>\n",
       "      <td>10</td>\n",
       "      <td>20</td>\n",
       "    </tr>\n",
       "    <tr>\n",
       "      <th>3</th>\n",
       "      <td>102</td>\n",
       "      <td>30.0</td>\n",
       "      <td>NaN</td>\n",
       "      <td>10</td>\n",
       "      <td>20</td>\n",
       "    </tr>\n",
       "  </tbody>\n",
       "</table>\n",
       "</div>"
      ],
      "text/plain": [
       "   Price  QtAsk  QtBid  dcount  ts\n",
       "0     99    NaN   20.0      10  20\n",
       "1    100    NaN   10.0      10  20\n",
       "2    101   20.0    NaN      10  20\n",
       "3    102   30.0    NaN      10  20"
      ]
     },
     "execution_count": 33,
     "metadata": {},
     "output_type": "execute_result"
    }
   ],
   "source": [
    "bsqntodfni(bq1,sq1,2,10,20)"
   ]
  },
  {
   "cell_type": "code",
   "execution_count": 34,
   "metadata": {},
   "outputs": [
    {
     "data": {
      "text/html": [
       "<div>\n",
       "<style scoped>\n",
       "    .dataframe tbody tr th:only-of-type {\n",
       "        vertical-align: middle;\n",
       "    }\n",
       "\n",
       "    .dataframe tbody tr th {\n",
       "        vertical-align: top;\n",
       "    }\n",
       "\n",
       "    .dataframe thead th {\n",
       "        text-align: right;\n",
       "    }\n",
       "</style>\n",
       "<table border=\"1\" class=\"dataframe\">\n",
       "  <thead>\n",
       "    <tr style=\"text-align: right;\">\n",
       "      <th></th>\n",
       "      <th>Price</th>\n",
       "      <th>Quantity</th>\n",
       "      <th>dcount</th>\n",
       "      <th>ts</th>\n",
       "    </tr>\n",
       "  </thead>\n",
       "  <tbody>\n",
       "    <tr>\n",
       "      <th>0</th>\n",
       "      <td>100</td>\n",
       "      <td>20</td>\n",
       "      <td>1</td>\n",
       "      <td>2</td>\n",
       "    </tr>\n",
       "    <tr>\n",
       "      <th>1</th>\n",
       "      <td>101</td>\n",
       "      <td>30</td>\n",
       "      <td>1</td>\n",
       "      <td>2</td>\n",
       "    </tr>\n",
       "  </tbody>\n",
       "</table>\n",
       "</div>"
      ],
      "text/plain": [
       "   Price  Quantity  dcount  ts\n",
       "0    100        20       1   2\n",
       "1    101        30       1   2"
      ]
     },
     "execution_count": 34,
     "metadata": {},
     "output_type": "execute_result"
    }
   ],
   "source": [
    "qtodfni(dtrd1,'T',1,2)"
   ]
  },
  {
   "cell_type": "code",
   "execution_count": 35,
   "metadata": {},
   "outputs": [
    {
     "data": {
      "text/html": [
       "<div>\n",
       "<style scoped>\n",
       "    .dataframe tbody tr th:only-of-type {\n",
       "        vertical-align: middle;\n",
       "    }\n",
       "\n",
       "    .dataframe tbody tr th {\n",
       "        vertical-align: top;\n",
       "    }\n",
       "\n",
       "    .dataframe thead th {\n",
       "        text-align: right;\n",
       "    }\n",
       "</style>\n",
       "<table border=\"1\" class=\"dataframe\">\n",
       "  <thead>\n",
       "    <tr style=\"text-align: right;\">\n",
       "      <th></th>\n",
       "      <th>Price</th>\n",
       "      <th>dcount</th>\n",
       "      <th>ts</th>\n",
       "    </tr>\n",
       "  </thead>\n",
       "  <tbody>\n",
       "  </tbody>\n",
       "</table>\n",
       "</div>"
      ],
      "text/plain": [
       "Empty DataFrame\n",
       "Columns: [Price, dcount, ts]\n",
       "Index: []"
      ]
     },
     "execution_count": 35,
     "metadata": {},
     "output_type": "execute_result"
    }
   ],
   "source": [
    "qtodfni({},'T',1,2)"
   ]
  },
  {
   "cell_type": "code",
   "execution_count": 5,
   "metadata": {},
   "outputs": [],
   "source": [
    "def dftoqs(df):\n",
    "    bq=df['QtBid'].dropna().to_dict()\n",
    "    sq=df['QtAsk'].dropna().to_dict()\n",
    "    return [bq,sq]\n",
    "\n",
    "def fulldftoqs(df):\n",
    "    dfi=df.copy().set_index('Price')\n",
    "    return dftoqs(dfi)"
   ]
  },
  {
   "cell_type": "code",
   "execution_count": 37,
   "metadata": {},
   "outputs": [
    {
     "data": {
      "text/plain": [
       "[{96: 5.0, 97: 30.0, 98: 40.0, 99: 20.0, 100: 10.0},\n",
       " {101: 20.0, 102: 30.0, 103: 40.0, 104: 10.0, 105: 5.0}]"
      ]
     },
     "execution_count": 37,
     "metadata": {},
     "output_type": "execute_result"
    }
   ],
   "source": [
    "dftoqs(pd.concat([qtodf(bq1,'B'),qtodf(sq1,'S')]))"
   ]
  },
  {
   "cell_type": "code",
   "execution_count": 38,
   "metadata": {},
   "outputs": [
    {
     "data": {
      "text/html": [
       "<div>\n",
       "<style scoped>\n",
       "    .dataframe tbody tr th:only-of-type {\n",
       "        vertical-align: middle;\n",
       "    }\n",
       "\n",
       "    .dataframe tbody tr th {\n",
       "        vertical-align: top;\n",
       "    }\n",
       "\n",
       "    .dataframe thead th {\n",
       "        text-align: right;\n",
       "    }\n",
       "</style>\n",
       "<table border=\"1\" class=\"dataframe\">\n",
       "  <thead>\n",
       "    <tr style=\"text-align: right;\">\n",
       "      <th></th>\n",
       "      <th>Price</th>\n",
       "      <th>QtAsk</th>\n",
       "      <th>QtBid</th>\n",
       "    </tr>\n",
       "  </thead>\n",
       "  <tbody>\n",
       "    <tr>\n",
       "      <th>0</th>\n",
       "      <td>96</td>\n",
       "      <td>NaN</td>\n",
       "      <td>5.0</td>\n",
       "    </tr>\n",
       "    <tr>\n",
       "      <th>1</th>\n",
       "      <td>97</td>\n",
       "      <td>NaN</td>\n",
       "      <td>30.0</td>\n",
       "    </tr>\n",
       "    <tr>\n",
       "      <th>2</th>\n",
       "      <td>98</td>\n",
       "      <td>NaN</td>\n",
       "      <td>40.0</td>\n",
       "    </tr>\n",
       "    <tr>\n",
       "      <th>3</th>\n",
       "      <td>99</td>\n",
       "      <td>NaN</td>\n",
       "      <td>20.0</td>\n",
       "    </tr>\n",
       "    <tr>\n",
       "      <th>4</th>\n",
       "      <td>100</td>\n",
       "      <td>NaN</td>\n",
       "      <td>10.0</td>\n",
       "    </tr>\n",
       "    <tr>\n",
       "      <th>5</th>\n",
       "      <td>101</td>\n",
       "      <td>20.0</td>\n",
       "      <td>NaN</td>\n",
       "    </tr>\n",
       "    <tr>\n",
       "      <th>6</th>\n",
       "      <td>102</td>\n",
       "      <td>30.0</td>\n",
       "      <td>NaN</td>\n",
       "    </tr>\n",
       "    <tr>\n",
       "      <th>7</th>\n",
       "      <td>103</td>\n",
       "      <td>40.0</td>\n",
       "      <td>NaN</td>\n",
       "    </tr>\n",
       "    <tr>\n",
       "      <th>8</th>\n",
       "      <td>104</td>\n",
       "      <td>10.0</td>\n",
       "      <td>NaN</td>\n",
       "    </tr>\n",
       "    <tr>\n",
       "      <th>9</th>\n",
       "      <td>105</td>\n",
       "      <td>5.0</td>\n",
       "      <td>NaN</td>\n",
       "    </tr>\n",
       "  </tbody>\n",
       "</table>\n",
       "</div>"
      ],
      "text/plain": [
       "   Price  QtAsk  QtBid\n",
       "0     96    NaN    5.0\n",
       "1     97    NaN   30.0\n",
       "2     98    NaN   40.0\n",
       "3     99    NaN   20.0\n",
       "4    100    NaN   10.0\n",
       "5    101   20.0    NaN\n",
       "6    102   30.0    NaN\n",
       "7    103   40.0    NaN\n",
       "8    104   10.0    NaN\n",
       "9    105    5.0    NaN"
      ]
     },
     "execution_count": 38,
     "metadata": {},
     "output_type": "execute_result"
    }
   ],
   "source": [
    "pd.concat([qtodf(bq1,'B'),qtodf(sq1,'S')]).reset_index()"
   ]
  },
  {
   "cell_type": "code",
   "execution_count": 39,
   "metadata": {},
   "outputs": [
    {
     "data": {
      "text/plain": [
       "[{96: 5.0, 97: 30.0, 98: 40.0, 99: 20.0, 100: 10.0},\n",
       " {101: 20.0, 102: 30.0, 103: 40.0, 104: 10.0, 105: 5.0}]"
      ]
     },
     "execution_count": 39,
     "metadata": {},
     "output_type": "execute_result"
    }
   ],
   "source": [
    "fulldftoqs(pd.concat([qtodf(bq1,'B'),qtodf(sq1,'S')]).reset_index())"
   ]
  },
  {
   "cell_type": "markdown",
   "metadata": {},
   "source": [
    "### Cumulative queues, outputs and plots"
   ]
  },
  {
   "cell_type": "code",
   "execution_count": 6,
   "metadata": {},
   "outputs": [],
   "source": [
    "def cumq(q,qn):\n",
    "    if qn=='B':\n",
    "        dfq=qtodf(q,qn,True)\n",
    "        qcol='QtBid'\n",
    "    elif qn=='S':\n",
    "        dfq=qtodf(q,qn,False)\n",
    "        qcol='QtAsk'\n",
    "    else:\n",
    "        dfq=qtodf(q,qn,False)\n",
    "        qcol='Quantity'\n",
    "    return dfq.cumsum().to_dict()[qcol]\n",
    "\n",
    "def dfcumbsq(bq,sq):\n",
    "    return bsqtodf(cumq(bq,'B'),cumq(sq,'S'))\n",
    "\n",
    "def dfcumbsq1(bq,sq):\n",
    "    return bsqtodf1(cumq(bq,'B'),cumq(sq,'S'))\n",
    "\n",
    "def dfcumbsqn(bq,sq,n):\n",
    "    return bsqntodf(cumq(bq,'B'),cumq(sq,'S'),n)"
   ]
  },
  {
   "cell_type": "code",
   "execution_count": 41,
   "metadata": {},
   "outputs": [
    {
     "data": {
      "text/plain": [
       "{96: 105, 97: 100, 98: 70, 99: 30, 100: 10}"
      ]
     },
     "execution_count": 41,
     "metadata": {},
     "output_type": "execute_result"
    }
   ],
   "source": [
    "cumq(bq1,'B')"
   ]
  },
  {
   "cell_type": "code",
   "execution_count": 42,
   "metadata": {},
   "outputs": [
    {
     "data": {
      "text/plain": [
       "{101: 20, 102: 50, 103: 90, 104: 100, 105: 105}"
      ]
     },
     "execution_count": 42,
     "metadata": {},
     "output_type": "execute_result"
    }
   ],
   "source": [
    "cumq(sq1,'S')"
   ]
  },
  {
   "cell_type": "code",
   "execution_count": 43,
   "metadata": {},
   "outputs": [
    {
     "data": {
      "text/plain": [
       "{100: 20, 101: 50}"
      ]
     },
     "execution_count": 43,
     "metadata": {},
     "output_type": "execute_result"
    }
   ],
   "source": [
    "cumq(dtrd1,'T')"
   ]
  },
  {
   "cell_type": "code",
   "execution_count": 44,
   "metadata": {},
   "outputs": [
    {
     "data": {
      "text/html": [
       "<div>\n",
       "<style scoped>\n",
       "    .dataframe tbody tr th:only-of-type {\n",
       "        vertical-align: middle;\n",
       "    }\n",
       "\n",
       "    .dataframe tbody tr th {\n",
       "        vertical-align: top;\n",
       "    }\n",
       "\n",
       "    .dataframe thead th {\n",
       "        text-align: right;\n",
       "    }\n",
       "</style>\n",
       "<table border=\"1\" class=\"dataframe\">\n",
       "  <thead>\n",
       "    <tr style=\"text-align: right;\">\n",
       "      <th></th>\n",
       "      <th>QtAsk</th>\n",
       "      <th>QtBid</th>\n",
       "    </tr>\n",
       "    <tr>\n",
       "      <th>Price</th>\n",
       "      <th></th>\n",
       "      <th></th>\n",
       "    </tr>\n",
       "  </thead>\n",
       "  <tbody>\n",
       "    <tr>\n",
       "      <th>96</th>\n",
       "      <td>NaN</td>\n",
       "      <td>105.0</td>\n",
       "    </tr>\n",
       "    <tr>\n",
       "      <th>97</th>\n",
       "      <td>NaN</td>\n",
       "      <td>100.0</td>\n",
       "    </tr>\n",
       "    <tr>\n",
       "      <th>98</th>\n",
       "      <td>NaN</td>\n",
       "      <td>70.0</td>\n",
       "    </tr>\n",
       "    <tr>\n",
       "      <th>99</th>\n",
       "      <td>NaN</td>\n",
       "      <td>30.0</td>\n",
       "    </tr>\n",
       "    <tr>\n",
       "      <th>100</th>\n",
       "      <td>NaN</td>\n",
       "      <td>10.0</td>\n",
       "    </tr>\n",
       "    <tr>\n",
       "      <th>101</th>\n",
       "      <td>20.0</td>\n",
       "      <td>NaN</td>\n",
       "    </tr>\n",
       "    <tr>\n",
       "      <th>102</th>\n",
       "      <td>50.0</td>\n",
       "      <td>NaN</td>\n",
       "    </tr>\n",
       "    <tr>\n",
       "      <th>103</th>\n",
       "      <td>90.0</td>\n",
       "      <td>NaN</td>\n",
       "    </tr>\n",
       "    <tr>\n",
       "      <th>104</th>\n",
       "      <td>100.0</td>\n",
       "      <td>NaN</td>\n",
       "    </tr>\n",
       "    <tr>\n",
       "      <th>105</th>\n",
       "      <td>105.0</td>\n",
       "      <td>NaN</td>\n",
       "    </tr>\n",
       "  </tbody>\n",
       "</table>\n",
       "</div>"
      ],
      "text/plain": [
       "       QtAsk  QtBid\n",
       "Price              \n",
       "96       NaN  105.0\n",
       "97       NaN  100.0\n",
       "98       NaN   70.0\n",
       "99       NaN   30.0\n",
       "100      NaN   10.0\n",
       "101     20.0    NaN\n",
       "102     50.0    NaN\n",
       "103     90.0    NaN\n",
       "104    100.0    NaN\n",
       "105    105.0    NaN"
      ]
     },
     "execution_count": 44,
     "metadata": {},
     "output_type": "execute_result"
    }
   ],
   "source": [
    "dfcumbsq(bq1,sq1)"
   ]
  },
  {
   "cell_type": "code",
   "execution_count": 45,
   "metadata": {},
   "outputs": [
    {
     "data": {
      "text/html": [
       "<div>\n",
       "<style scoped>\n",
       "    .dataframe tbody tr th:only-of-type {\n",
       "        vertical-align: middle;\n",
       "    }\n",
       "\n",
       "    .dataframe tbody tr th {\n",
       "        vertical-align: top;\n",
       "    }\n",
       "\n",
       "    .dataframe thead th {\n",
       "        text-align: right;\n",
       "    }\n",
       "</style>\n",
       "<table border=\"1\" class=\"dataframe\">\n",
       "  <thead>\n",
       "    <tr style=\"text-align: right;\">\n",
       "      <th></th>\n",
       "      <th>QtBid</th>\n",
       "      <th>QtAsk</th>\n",
       "    </tr>\n",
       "    <tr>\n",
       "      <th>Price</th>\n",
       "      <th></th>\n",
       "      <th></th>\n",
       "    </tr>\n",
       "  </thead>\n",
       "  <tbody>\n",
       "    <tr>\n",
       "      <th>96</th>\n",
       "      <td>105.0</td>\n",
       "      <td>NaN</td>\n",
       "    </tr>\n",
       "    <tr>\n",
       "      <th>97</th>\n",
       "      <td>100.0</td>\n",
       "      <td>NaN</td>\n",
       "    </tr>\n",
       "    <tr>\n",
       "      <th>98</th>\n",
       "      <td>70.0</td>\n",
       "      <td>NaN</td>\n",
       "    </tr>\n",
       "    <tr>\n",
       "      <th>99</th>\n",
       "      <td>30.0</td>\n",
       "      <td>NaN</td>\n",
       "    </tr>\n",
       "    <tr>\n",
       "      <th>100</th>\n",
       "      <td>10.0</td>\n",
       "      <td>NaN</td>\n",
       "    </tr>\n",
       "    <tr>\n",
       "      <th>101</th>\n",
       "      <td>NaN</td>\n",
       "      <td>20.0</td>\n",
       "    </tr>\n",
       "    <tr>\n",
       "      <th>102</th>\n",
       "      <td>NaN</td>\n",
       "      <td>50.0</td>\n",
       "    </tr>\n",
       "    <tr>\n",
       "      <th>103</th>\n",
       "      <td>NaN</td>\n",
       "      <td>90.0</td>\n",
       "    </tr>\n",
       "    <tr>\n",
       "      <th>104</th>\n",
       "      <td>NaN</td>\n",
       "      <td>100.0</td>\n",
       "    </tr>\n",
       "    <tr>\n",
       "      <th>105</th>\n",
       "      <td>NaN</td>\n",
       "      <td>105.0</td>\n",
       "    </tr>\n",
       "  </tbody>\n",
       "</table>\n",
       "</div>"
      ],
      "text/plain": [
       "       QtBid  QtAsk\n",
       "Price              \n",
       "96     105.0    NaN\n",
       "97     100.0    NaN\n",
       "98      70.0    NaN\n",
       "99      30.0    NaN\n",
       "100     10.0    NaN\n",
       "101      NaN   20.0\n",
       "102      NaN   50.0\n",
       "103      NaN   90.0\n",
       "104      NaN  100.0\n",
       "105      NaN  105.0"
      ]
     },
     "execution_count": 45,
     "metadata": {},
     "output_type": "execute_result"
    }
   ],
   "source": [
    "dfcumbsq1(bq1,sq1)"
   ]
  },
  {
   "cell_type": "code",
   "execution_count": 46,
   "metadata": {},
   "outputs": [
    {
     "data": {
      "text/html": [
       "<div>\n",
       "<style scoped>\n",
       "    .dataframe tbody tr th:only-of-type {\n",
       "        vertical-align: middle;\n",
       "    }\n",
       "\n",
       "    .dataframe tbody tr th {\n",
       "        vertical-align: top;\n",
       "    }\n",
       "\n",
       "    .dataframe thead th {\n",
       "        text-align: right;\n",
       "    }\n",
       "</style>\n",
       "<table border=\"1\" class=\"dataframe\">\n",
       "  <thead>\n",
       "    <tr style=\"text-align: right;\">\n",
       "      <th></th>\n",
       "      <th>QtAsk</th>\n",
       "      <th>QtBid</th>\n",
       "    </tr>\n",
       "    <tr>\n",
       "      <th>Price</th>\n",
       "      <th></th>\n",
       "      <th></th>\n",
       "    </tr>\n",
       "  </thead>\n",
       "  <tbody>\n",
       "    <tr>\n",
       "      <th>98</th>\n",
       "      <td>NaN</td>\n",
       "      <td>70.0</td>\n",
       "    </tr>\n",
       "    <tr>\n",
       "      <th>99</th>\n",
       "      <td>NaN</td>\n",
       "      <td>30.0</td>\n",
       "    </tr>\n",
       "    <tr>\n",
       "      <th>100</th>\n",
       "      <td>NaN</td>\n",
       "      <td>10.0</td>\n",
       "    </tr>\n",
       "    <tr>\n",
       "      <th>101</th>\n",
       "      <td>20.0</td>\n",
       "      <td>NaN</td>\n",
       "    </tr>\n",
       "    <tr>\n",
       "      <th>102</th>\n",
       "      <td>50.0</td>\n",
       "      <td>NaN</td>\n",
       "    </tr>\n",
       "    <tr>\n",
       "      <th>103</th>\n",
       "      <td>90.0</td>\n",
       "      <td>NaN</td>\n",
       "    </tr>\n",
       "  </tbody>\n",
       "</table>\n",
       "</div>"
      ],
      "text/plain": [
       "       QtAsk  QtBid\n",
       "Price              \n",
       "98       NaN   70.0\n",
       "99       NaN   30.0\n",
       "100      NaN   10.0\n",
       "101     20.0    NaN\n",
       "102     50.0    NaN\n",
       "103     90.0    NaN"
      ]
     },
     "execution_count": 46,
     "metadata": {},
     "output_type": "execute_result"
    }
   ],
   "source": [
    "dfcumbsqn(bq1,sq1,3)"
   ]
  },
  {
   "cell_type": "code",
   "execution_count": 7,
   "metadata": {},
   "outputs": [],
   "source": [
    "def plotq(bq,sq):\n",
    "    bsqtodf1(bq,sq).plot(kind='bar',color=['red','blue'],\\\n",
    "         title='Bid/Ask Queue');\n",
    "    plt.axhline(0,color='black');\n",
    "\n",
    "def plotqn(bq,sq,n):\n",
    "    bsqntodf1(bq,sq,n).plot(kind='bar',color=['red','blue'],\\\n",
    "         title='Bid/Ask Queue');\n",
    "    plt.axhline(0,color='black');\n",
    "\n",
    "def plotdf(df):\n",
    "    df.plot(kind='bar',color=['red','blue'],\\\n",
    "         title='Bid/Ask Queue');\n",
    "    plt.axhline(0,color='black');\n",
    "\n",
    "def plotcumq(bq,sq):\n",
    "    dfcumbsq1(bq,sq).plot(kind='bar',color=['red','blue'],\\\n",
    "            title='Cumulative Bid/Ask Queue');\n",
    "    plt.axhline(0,color='black');\n",
    "    \n",
    "def plotcumqn(bq,sq,n):\n",
    "    dfcumbsqn(bq,sq,n).plot(kind='bar',color=['red','blue'],\\\n",
    "            title='Cumulative Bid/Ask Queue');\n",
    "    plt.axhline(0,color='black');"
   ]
  },
  {
   "cell_type": "code",
   "execution_count": 8,
   "metadata": {},
   "outputs": [
    {
     "data": {
      "image/png": "[encoded data removed]",
      "text/plain": [
       "<Figure size 432x288 with 1 Axes>"
      ]
     },
     "metadata": {},
     "output_type": "display_data"
    }
   ],
   "source": [
    "plotq(bq1,sq1)"
   ]
  },
  {
   "cell_type": "code",
   "execution_count": 49,
   "metadata": {},
   "outputs": [
    {
     "data": {
      "image/png": "[encoded data removed]",
      "text/plain": [
       "<Figure size 432x288 with 1 Axes>"
      ]
     },
     "metadata": {},
     "output_type": "display_data"
    }
   ],
   "source": [
    "plotqn(bq1,sq1,3)"
   ]
  },
  {
   "cell_type": "code",
   "execution_count": 50,
   "metadata": {},
   "outputs": [
    {
     "data": {
      "image/png": "[encoded data removed]",
      "text/plain": [
       "<Figure size 432x288 with 1 Axes>"
      ]
     },
     "metadata": {},
     "output_type": "display_data"
    }
   ],
   "source": [
    "plotcumq(bq1,sq1)"
   ]
  },
  {
   "cell_type": "code",
   "execution_count": 51,
   "metadata": {},
   "outputs": [
    {
     "data": {
      "image/png": "[encoded data removed]",
      "text/plain": [
       "<Figure size 432x288 with 1 Axes>"
      ]
     },
     "metadata": {},
     "output_type": "display_data"
    }
   ],
   "source": [
    "plotcumqn(bq1,sq1,3)"
   ]
  },
  {
   "cell_type": "markdown",
   "metadata": {},
   "source": [
    "## Orders and events"
   ]
  },
  {
   "cell_type": "markdown",
   "metadata": {},
   "source": [
    "1. 'OrderType':ot ('L','M','C')\n",
    "2. 'Direction':bs ('B','S')\n",
    "3. 'Quantity':am\n",
    "4. 'Price':p\n",
    "5. 'Date':dt\n",
    "6. 'Trader':tr\n",
    "7. 'OrderId':oid\n",
    "8. 'OrderCaracteristics':oc"
   ]
  },
  {
   "cell_type": "markdown",
   "metadata": {},
   "source": [
    "Trading phases (indicated by status: tp):\n",
    "\n",
    "a. Pre-matching ('PM'): only add and cancel in queues, each independent - no matching\n",
    "\n",
    "b. Opening auction ('OA'): match both queues; to cheat, we take trades marked as OpeningAuction and cancel them from queue\n",
    "\n",
    "c. Normal matching ('NM'): orders are checked against opposite queue first before adding"
   ]
  },
  {
   "cell_type": "markdown",
   "metadata": {},
   "source": [
    "#### Test orders"
   ]
  },
  {
   "cell_type": "code",
   "execution_count": 52,
   "metadata": {},
   "outputs": [],
   "source": [
    "orderLBa={'Date': '2018-03-01','Direction': 'B','OrderType': 'L',\\\n",
    " 'Price': 98,'Quantity': 100,'Trader':1,'OrderId':1,\\\n",
    " 'OrderCaracteristics':1}"
   ]
  },
  {
   "cell_type": "code",
   "execution_count": 53,
   "metadata": {},
   "outputs": [],
   "source": [
    "orderLBm={'Date': '2018-03-01','Direction': 'B','OrderType': 'L',\\\n",
    " 'Price': 102,'Quantity': 100,'Trader':1,'OrderId':1,\\\n",
    " 'OrderCaracteristics':1}"
   ]
  },
  {
   "cell_type": "code",
   "execution_count": 54,
   "metadata": {},
   "outputs": [],
   "source": [
    "orderLBmt={'Date': '2018-03-01','Direction': 'B','OrderType': 'L',\\\n",
    " 'Price': 102,'Quantity': 40,'Trader':1,'OrderId':1,\\\n",
    " 'OrderCaracteristics':1}"
   ]
  },
  {
   "cell_type": "code",
   "execution_count": 55,
   "metadata": {},
   "outputs": [],
   "source": [
    "orderLSa={'Date': '2018-03-01','Direction': 'S','OrderType': 'L',\\\n",
    " 'Price': 102,'Quantity': 100,'Trader':1,'OrderId':1,\\\n",
    " 'OrderCaracteristics':1}"
   ]
  },
  {
   "cell_type": "code",
   "execution_count": 56,
   "metadata": {},
   "outputs": [],
   "source": [
    "orderLSm={'Date': '2018-03-01','Direction': 'S','OrderType': 'L',\\\n",
    " 'Price': 98,'Quantity': 100,'Trader':1,'OrderId':1,\\\n",
    " 'OrderCaracteristics':1}"
   ]
  },
  {
   "cell_type": "code",
   "execution_count": 57,
   "metadata": {},
   "outputs": [],
   "source": [
    "orderLSmt={'Date': '2018-03-01','Direction': 'S','OrderType': 'L',\\\n",
    " 'Price': 98,'Quantity': 40,'Trader':1,'OrderId':1,\\\n",
    " 'OrderCaracteristics':1}"
   ]
  },
  {
   "cell_type": "code",
   "execution_count": 58,
   "metadata": {},
   "outputs": [],
   "source": [
    "orderMB={'Date': '2018-03-01','Direction': 'B','OrderType': 'M',\\\n",
    " 'Price': 0,'Quantity': 65,'Trader':1,'OrderId':1,\\\n",
    " 'OrderCaracteristics':1}"
   ]
  },
  {
   "cell_type": "code",
   "execution_count": 59,
   "metadata": {},
   "outputs": [],
   "source": [
    "orderMS={'Date': '2018-03-01','Direction': 'S','OrderType': 'M',\\\n",
    " 'Price': 0,'Quantity': 65,'Trader':1,'OrderId':1,\\\n",
    " 'OrderCaracteristics':1}"
   ]
  },
  {
   "cell_type": "code",
   "execution_count": 60,
   "metadata": {},
   "outputs": [],
   "source": [
    "orderMBt={'Date': '2018-03-01','Direction': 'B','OrderType': 'M',\\\n",
    " 'Price': 0,'Quantity': 120,'Trader':1,'OrderId':1,\\\n",
    " 'OrderCaracteristics':1}"
   ]
  },
  {
   "cell_type": "code",
   "execution_count": 61,
   "metadata": {},
   "outputs": [],
   "source": [
    "orderMSt={'Date': '2018-03-01','Direction': 'S','OrderType': 'M',\\\n",
    " 'Price': 0,'Quantity': 120,'Trader':1,'OrderId':1,\\\n",
    " 'OrderCaracteristics':1}"
   ]
  },
  {
   "cell_type": "code",
   "execution_count": 62,
   "metadata": {},
   "outputs": [],
   "source": [
    "orderCBT={'Date': '2018-03-01','Direction': 'B','OrderType': 'C',\\\n",
    " 'Price': 98,'Quantity': 35,'Trader':1,'OrderId':1,\\\n",
    " 'OrderCaracteristics':1}"
   ]
  },
  {
   "cell_type": "code",
   "execution_count": 63,
   "metadata": {},
   "outputs": [],
   "source": [
    "orderCBF1={'Date': '2018-03-01','Direction': 'B','OrderType': 'C',\\\n",
    " 'Price': 99,'Quantity': 35,'Trader':1,'OrderId':1,\\\n",
    " 'OrderCaracteristics':1}"
   ]
  },
  {
   "cell_type": "code",
   "execution_count": 64,
   "metadata": {},
   "outputs": [],
   "source": [
    "orderCBF2={'Date': '2018-03-01','Direction': 'B','OrderType': 'C',\\\n",
    " 'Price': 90,'Quantity': 35,'Trader':1,'OrderId':1,\\\n",
    " 'OrderCaracteristics':1}"
   ]
  },
  {
   "cell_type": "code",
   "execution_count": 65,
   "metadata": {},
   "outputs": [],
   "source": [
    "orderCST={'Date': '2018-03-01','Direction': 'S','OrderType': 'C',\\\n",
    " 'Price': 103,'Quantity': 35,'Trader':1,'OrderId':1,\\\n",
    " 'OrderCaracteristics':1}"
   ]
  },
  {
   "cell_type": "code",
   "execution_count": 66,
   "metadata": {},
   "outputs": [],
   "source": [
    "orderCSF1={'Date': '2018-03-01','Direction': 'S','OrderType': 'C',\\\n",
    " 'Price': 102,'Quantity': 35,'Trader':1,'OrderId':1,\\\n",
    " 'OrderCaracteristics':1}"
   ]
  },
  {
   "cell_type": "code",
   "execution_count": 67,
   "metadata": {},
   "outputs": [],
   "source": [
    "orderCSF2={'Date': '2018-03-01','Direction': 'S','OrderType': 'C',\\\n",
    " 'Price': 110,'Quantity': 35,'Trader':1,'OrderId':1,\\\n",
    " 'OrderCaracteristics':1}"
   ]
  },
  {
   "cell_type": "code",
   "execution_count": 68,
   "metadata": {},
   "outputs": [],
   "source": [
    "orderlist=['orderLBa','orderLBm','orderLBmt',\\\n",
    "           'orderMB','orderMBt',\\\n",
    "           'orderCBT','orderCBF1','orderCBF2',\\\n",
    "           'orderLSa','orderLSm','orderLSmt',\\\n",
    "           'orderMS','orderMSt',\\\n",
    "           'orderCST','orderCSF1','orderCSF2']"
   ]
  },
  {
   "cell_type": "markdown",
   "metadata": {},
   "source": [
    "### Auctions"
   ]
  },
  {
   "cell_type": "code",
   "execution_count": 116,
   "metadata": {},
   "outputs": [],
   "source": [
    "def aucpx(bq,sq,cumf=True):\n",
    "    if cumf:\n",
    "        bsqc=pd.concat([qtodf(bq,'B'),\\\n",
    "                        qtodf(sq,'S')],\\\n",
    "        axis=1,join='inner')\n",
    "    else:\n",
    "        bsqc=pd.concat([qtodf(cumq(bq,'B'),'B'),\\\n",
    "                     qtodf(cumq(sq,'S'),'S')],\\\n",
    "        axis=1,join='inner')\n",
    "    bsqc['Match']=bsqc.min(axis=1)\n",
    "    return {bsqc['Match'].idxmax():bsqc['Match'].max()}\n",
    "\n",
    "def aucpxLM(bqL,sqL,bqM,sqM):\n",
    "    bqcL=qtodf(cumq(bqL,'B'),'B')\n",
    "    sqcL=qtodf(cumq(sqL,'S'),'S')\n",
    "    bsqcL=pd.concat([bqcL,sqcL],axis=1)\n",
    "    bsqcL['QtAsk'].fillna(method='ffill',inplace=True)\n",
    "    bsqcL['QtBid'].fillna(method='bfill',inplace=True)\n",
    "    if sqM!={}:\n",
    "        bsqcL['QtAsk']+=sqM[0]\n",
    "    if bqM!={}:\n",
    "        bsqcL['QtBid']+=bqM[0]\n",
    "    bsqcL['Match']=bsqcL.min(axis=1)\n",
    "    bsqcLv=bsqcL.dropna()\n",
    "    return {bsqcLv['Match'].idxmax():bsqcLv['Match'].max()}\n",
    "\n",
    "def cleanauct(bqL,sqL,bqM,sqM,amtrdpx,amtrdoa):\n",
    "    if bqM!={}:\n",
    "        bqm0=bqM[0]\n",
    "    else:\n",
    "        bqm0=0\n",
    "    if sqM!={}:\n",
    "        sqm0=sqM[0]\n",
    "    else:\n",
    "        sqm0=0\n",
    "    amoabid=qtodf(bqL,'B').loc[amtrdpx:].sum().values[0]+bqm0\n",
    "    amoaask=qtodf(sqL,'S').loc[:amtrdpx].sum().values[0]+sqm0\n",
    "    amoabidrem=amoabid-amtrdoa\n",
    "    amoaaskrem=amoaask-amtrdoa\n",
    "    bqLr,trdBoa=selqpx(bqL,'B',amtrdpx)\n",
    "    sqLr,trdSoa=selqpx(sqL,'S',amtrdpx)\n",
    "    if amoabidrem>0:\n",
    "        bqLr[amtrdpx]=amoabidrem\n",
    "    elif amoaaskrem>0:\n",
    "        sqLr[amtrdpx]=amoaaskrem\n",
    "    return (bqLr,sqLr)"
   ]
  },
  {
   "cell_type": "code",
   "execution_count": 92,
   "metadata": {},
   "outputs": [],
   "source": [
    "bqa={97:30,99:20,98:40,100:10,96:5}\n",
    "sqa={98:30,97:20,99:40,100:10,101:5}"
   ]
  },
  {
   "cell_type": "code",
   "execution_count": 93,
   "metadata": {},
   "outputs": [
    {
     "data": {
      "image/png": "[encoded data removed]",
      "text/plain": [
       "<Figure size 432x288 with 1 Axes>"
      ]
     },
     "metadata": {},
     "output_type": "display_data"
    }
   ],
   "source": [
    "plotq(bqa,sqa)"
   ]
  },
  {
   "cell_type": "code",
   "execution_count": 94,
   "metadata": {},
   "outputs": [
    {
     "data": {
      "image/png": "[encoded data removed]",
      "text/plain": [
       "<Figure size 432x288 with 1 Axes>"
      ]
     },
     "metadata": {},
     "output_type": "display_data"
    }
   ],
   "source": [
    "plotcumq(bqa,sqa)"
   ]
  },
  {
   "cell_type": "markdown",
   "metadata": {},
   "source": [
    "Find clearing price and amount traded"
   ]
  },
  {
   "cell_type": "code",
   "execution_count": 98,
   "metadata": {},
   "outputs": [
    {
     "data": {
      "text/plain": [
       "{98: 50.0}"
      ]
     },
     "execution_count": 98,
     "metadata": {},
     "output_type": "execute_result"
    }
   ],
   "source": [
    "aucpxLM(bqa,sqa,{},{})"
   ]
  },
  {
   "cell_type": "markdown",
   "metadata": {},
   "source": [
    "Remaining queues (there should be no crossing)"
   ]
  },
  {
   "cell_type": "code",
   "execution_count": 117,
   "metadata": {},
   "outputs": [
    {
     "data": {
      "text/plain": [
       "({96: 5, 97: 30, 98: 20}, {99: 40, 100: 10, 101: 5})"
      ]
     },
     "execution_count": 117,
     "metadata": {},
     "output_type": "execute_result"
    }
   ],
   "source": [
    "cleanauct(bqa,sqa,{},{},98,50)"
   ]
  },
  {
   "cell_type": "code",
   "execution_count": 119,
   "metadata": {},
   "outputs": [
    {
     "data": {
      "image/png": "[encoded data removed]",
      "text/plain": [
       "<Figure size 432x288 with 1 Axes>"
      ]
     },
     "metadata": {},
     "output_type": "display_data"
    }
   ],
   "source": [
    "plotq({96: 5, 97: 30, 98: 20}, {99: 40, 100: 10, 101: 5})"
   ]
  },
  {
   "cell_type": "markdown",
   "metadata": {},
   "source": [
    "#### Matching Functions"
   ]
  },
  {
   "cell_type": "code",
   "execution_count": 72,
   "metadata": {},
   "outputs": [],
   "source": [
    "def sumo(o):\n",
    "    return [o['OrderType'],o['Direction'],{o['Price']:o['Quantity']}]"
   ]
  },
  {
   "cell_type": "code",
   "execution_count": 73,
   "metadata": {},
   "outputs": [],
   "source": [
    "def addtodict(q,x):\n",
    "    nq=q.copy()\n",
    "    try:\n",
    "        nq[x['Price']]+=x['Quantity']\n",
    "    except:\n",
    "        nq[x['Price']]=x['Quantity']\n",
    "    return [nq,True]"
   ]
  },
  {
   "cell_type": "code",
   "execution_count": 74,
   "metadata": {},
   "outputs": [],
   "source": [
    "def subtractfromdict(q,x):\n",
    "    nq=q.copy()\n",
    "    cncl=True\n",
    "    try:\n",
    "        nq[x['Price']]-=x['Quantity']\n",
    "    except:\n",
    "        cncl=False\n",
    "    try:\n",
    "        if nq[x['Price']]<0:\n",
    "            cncl=False\n",
    "            nq=q.copy()\n",
    "    except:\n",
    "        pass\n",
    "    return [nq,cncl]"
   ]
  },
  {
   "cell_type": "code",
   "execution_count": 75,
   "metadata": {},
   "outputs": [],
   "source": [
    "def addcancel(q,x):\n",
    "    if x['OrderType']=='C':\n",
    "        return subtractfromdict(q,x)\n",
    "    else:\n",
    "        return addtodict(q,x)"
   ]
  },
  {
   "cell_type": "code",
   "execution_count": 76,
   "metadata": {},
   "outputs": [],
   "source": [
    "def bsaddcancel(bq,sq,x):\n",
    "    nbq=bq.copy()\n",
    "    nsq=sq.copy()\n",
    "    if x['Direction']=='B':\n",
    "        nbq, cncl = addcancel(nbq,x)\n",
    "    else:\n",
    "        nsq, cncl = addcancel(nsq,x)\n",
    "    if cncl:\n",
    "        pro={}\n",
    "    else:\n",
    "        pro=x.copy()\n",
    "    return [nbq,nsq,{},pro,cncl]"
   ]
  },
  {
   "cell_type": "code",
   "execution_count": 77,
   "metadata": {},
   "outputs": [],
   "source": [
    "def selqam(q,qn,am):\n",
    "    qc=cumq(q,qn)\n",
    "    qsel=dict([(p,q[p]) for (p,v) in qc.items() if v>=am])\n",
    "    dtrd=dict([(p,q[p]) for (p,v) in qc.items() if v<am])\n",
    "    qre=am-totam(dtrd)\n",
    "    if qre>0:\n",
    "        if qn=='B':\n",
    "            bb,ba,bfb,bfa=bestba(qsel,{})\n",
    "            bff=bfb\n",
    "            bp=bb\n",
    "        else:\n",
    "            bb,ba,bfb,bfa=bestba({},qsel)\n",
    "            bff=bfa\n",
    "            bp=ba\n",
    "        if (bff and (qsel[bp]>=qre)):\n",
    "            dtrd[bp]=qre\n",
    "            qsel[bp]-=qre\n",
    "    return [qsel,dtrd]"
   ]
  },
  {
   "cell_type": "code",
   "execution_count": 78,
   "metadata": {},
   "outputs": [],
   "source": [
    "def selqpx(q,qn,px):\n",
    "    if qn=='B':\n",
    "        s=+1\n",
    "    else:\n",
    "        s=-1\n",
    "    qsel=dict([(p,q[p]) for (p,v) in q.items() if s*p<s*px])\n",
    "    dtrd=dict([(p,q[p]) for (p,v) in q.items() if s*p>=s*px])\n",
    "    return [qsel,dtrd]"
   ]
  },
  {
   "cell_type": "code",
   "execution_count": 79,
   "metadata": {},
   "outputs": [],
   "source": [
    "def bsmatch(bq,sq,x):\n",
    "    # Initialize answers\n",
    "    nbq=bq.copy()\n",
    "    nsq=sq.copy()\n",
    "    dtrd={}\n",
    "    pro=x.copy()\n",
    "    # Get order information\n",
    "    otm=x['OrderType']=='M'\n",
    "    am=x['Quantity']\n",
    "    p=x['Price']\n",
    "    bf=x['Direction']=='B'\n",
    "    # If OrderType is M, do not filter by price\n",
    "    if otm:\n",
    "        if bf:\n",
    "            p=1000000000\n",
    "        else:\n",
    "            p=0\n",
    "    # Filter relevant queue by price\n",
    "    # rq1 is the remaining queue (not tradable)\n",
    "    # uq is the tradable queue\n",
    "    if bf:\n",
    "        rq1,uq=selqpx(sq,'S',p)\n",
    "    else:\n",
    "        rq1,uq=selqpx(bq,'B',p)\n",
    "    # Total available on filtered queue\n",
    "    uqt=totam(uq)\n",
    "    if am>=uqt:\n",
    "        # Shortcut if order amount greater than total available\n",
    "        dtrd=uq.copy()\n",
    "        if am==uqt:\n",
    "            pro={}\n",
    "        else:\n",
    "            pro['Quantity']=am-uqt\n",
    "        rq2={}\n",
    "        if bf:\n",
    "            nsq={**rq1, **rq2}\n",
    "        else:\n",
    "            nbq={**rq1, **rq2}\n",
    "    else:\n",
    "        # Break filtered queue into remaining and traded\n",
    "        if bf:\n",
    "            rq2, dtrd= selqam(nsq,'S',am)\n",
    "            nsq={**rq1, **rq2}\n",
    "        else:\n",
    "            rq2, dtrd= selqam(nbq,'B',am)\n",
    "            nbq={**rq1, **rq2}\n",
    "        pro={}\n",
    "    if ((pro!={}) and not(otm)):\n",
    "        nbq,nsq,aux1,pro,aux2=bsaddcancel(nbq,nsq,pro)\n",
    "    return [nbq,nsq,dtrd,pro,pro=={}]"
   ]
  },
  {
   "cell_type": "code",
   "execution_count": 80,
   "metadata": {},
   "outputs": [],
   "source": [
    "def proq(bq,sq,do,status):\n",
    "    nbq=bq.copy()\n",
    "    nsq=sq.copy()\n",
    "    if status=='PM':\n",
    "        nbq, nsq, dtrd, pro, cncl = bsaddcancel(nbq,nsq,do)\n",
    "    elif status=='OA':\n",
    "        pass\n",
    "    else:\n",
    "        if do['OrderType']=='M':\n",
    "            nbq, nsq, dtrd, pro, cncl = bsmatch(nbq,nsq,do)\n",
    "        else:\n",
    "            if do['OrderType']=='L':\n",
    "                bb,ba,bfb,bfa=bestba(bq,sq)\n",
    "                lbf=(do['Direction']=='B') and \\\n",
    "                    (do['Price']>=ba) and bfa\n",
    "                lsf=(do['Direction']=='S') and \\\n",
    "                    (do['Price']<=bb) and bfb\n",
    "                if (lbf or lsf):\n",
    "                    nbq, nsq, dtrd, pro, cncl = bsmatch(nbq,nsq,do)\n",
    "                else:\n",
    "                    nbq, nsq, dtrd, pro, cncl = bsaddcancel(nbq,nsq,do)\n",
    "            else:\n",
    "                nbq, nsq, dtrd, pro, cncl = bsaddcancel(nbq,nsq,do)\n",
    "    # Returns:\n",
    "    # nbq: New buy queue\n",
    "    # nsq: New sell queue\n",
    "    # dtrd: Dict of trades (price:quantity)\n",
    "    # pro: Remaining non-placed-in-queue market order\n",
    "    # cncl: True if no problems in processing order\n",
    "    # cncl: False if a cancel was not possible or \n",
    "    #     there is a market order failed to execute\n",
    "    #     totally against the opposite queue\n",
    "    return [nonzeroq(nbq),nonzeroq(nsq),dtrd,pro,cncl]"
   ]
  },
  {
   "cell_type": "markdown",
   "metadata": {},
   "source": [
    "## Testing the orders"
   ]
  },
  {
   "cell_type": "code",
   "execution_count": 81,
   "metadata": {},
   "outputs": [
    {
     "data": {
      "text/plain": [
       "['orderLBa',\n",
       " 'orderLBm',\n",
       " 'orderLBmt',\n",
       " 'orderMB',\n",
       " 'orderMBt',\n",
       " 'orderCBT',\n",
       " 'orderCBF1',\n",
       " 'orderCBF2',\n",
       " 'orderLSa',\n",
       " 'orderLSm',\n",
       " 'orderLSmt',\n",
       " 'orderMS',\n",
       " 'orderMSt',\n",
       " 'orderCST',\n",
       " 'orderCSF1',\n",
       " 'orderCSF2']"
      ]
     },
     "execution_count": 81,
     "metadata": {},
     "output_type": "execute_result"
    }
   ],
   "source": [
    "orderlist"
   ]
  },
  {
   "cell_type": "markdown",
   "metadata": {},
   "source": [
    "### Adding to queue (no crossing)"
   ]
  },
  {
   "cell_type": "markdown",
   "metadata": {},
   "source": [
    "#### Pre-matching"
   ]
  },
  {
   "cell_type": "code",
   "execution_count": 82,
   "metadata": {},
   "outputs": [
    {
     "data": {
      "text/plain": [
       "[{96: 5, 97: 30, 98: 40, 99: 20, 100: 10},\n",
       " {101: 20, 102: 30, 103: 40, 104: 10, 105: 5},\n",
       " ['L', 'B', {98: 100}],\n",
       " [{96: 5, 97: 30, 98: 140, 99: 20, 100: 10},\n",
       "  {101: 20, 102: 30, 103: 40, 104: 10, 105: 5},\n",
       "  {},\n",
       "  {},\n",
       "  True],\n",
       " {96: 5, 97: 30, 98: 40, 99: 20, 100: 10},\n",
       " {101: 20, 102: 30, 103: 40, 104: 10, 105: 5},\n",
       " ['L', 'S', {102: 100}],\n",
       " [{96: 5, 97: 30, 98: 40, 99: 20, 100: 10},\n",
       "  {101: 20, 102: 130, 103: 40, 104: 10, 105: 5},\n",
       "  {},\n",
       "  {},\n",
       "  True]]"
      ]
     },
     "execution_count": 82,
     "metadata": {},
     "output_type": "execute_result"
    }
   ],
   "source": [
    "[bq1,sq1,sumo(orderLBa),proq(bq1,sq1,orderLBa,'PM'),\n",
    " bq1,sq1,sumo(orderLSa),proq(bq1,sq1,orderLSa,'PM')]"
   ]
  },
  {
   "cell_type": "code",
   "execution_count": 121,
   "metadata": {},
   "outputs": [
    {
     "data": {
      "image/png": "[encoded data removed]",
      "text/plain": [
       "<Figure size 432x288 with 1 Axes>"
      ]
     },
     "metadata": {},
     "output_type": "display_data"
    }
   ],
   "source": [
    "plotq(bq1,sq1)"
   ]
  },
  {
   "cell_type": "code",
   "execution_count": 122,
   "metadata": {},
   "outputs": [
    {
     "data": {
      "image/png": "[encoded data removed]",
      "text/plain": [
       "<Figure size 432x288 with 1 Axes>"
      ]
     },
     "metadata": {},
     "output_type": "display_data"
    }
   ],
   "source": [
    "plotq({96: 5, 97: 30, 98: 140, 99: 20, 100: 10},\n",
    "  {101: 20, 102: 30, 103: 40, 104: 10, 105: 5})"
   ]
  },
  {
   "cell_type": "code",
   "execution_count": 123,
   "metadata": {},
   "outputs": [
    {
     "data": {
      "image/png": "[encoded data removed]",
      "text/plain": [
       "<Figure size 432x288 with 1 Axes>"
      ]
     },
     "metadata": {},
     "output_type": "display_data"
    }
   ],
   "source": [
    "plotq({96: 5, 97: 30, 98: 40, 99: 20, 100: 10},\n",
    "  {101: 20, 102: 130, 103: 40, 104: 10, 105: 5})"
   ]
  },
  {
   "cell_type": "markdown",
   "metadata": {},
   "source": [
    "#### Normal matching"
   ]
  },
  {
   "cell_type": "code",
   "execution_count": 83,
   "metadata": {},
   "outputs": [
    {
     "data": {
      "text/plain": [
       "[{96: 5, 97: 30, 98: 40, 99: 20, 100: 10},\n",
       " {101: 20, 102: 30, 103: 40, 104: 10, 105: 5},\n",
       " ['L', 'B', {98: 100}],\n",
       " [{96: 5, 97: 30, 98: 140, 99: 20, 100: 10},\n",
       "  {101: 20, 102: 30, 103: 40, 104: 10, 105: 5},\n",
       "  {},\n",
       "  {},\n",
       "  True],\n",
       " {96: 5, 97: 30, 98: 40, 99: 20, 100: 10},\n",
       " {101: 20, 102: 30, 103: 40, 104: 10, 105: 5},\n",
       " ['L', 'S', {102: 100}],\n",
       " [{96: 5, 97: 30, 98: 40, 99: 20, 100: 10},\n",
       "  {101: 20, 102: 130, 103: 40, 104: 10, 105: 5},\n",
       "  {},\n",
       "  {},\n",
       "  True]]"
      ]
     },
     "execution_count": 83,
     "metadata": {},
     "output_type": "execute_result"
    }
   ],
   "source": [
    "[bq1,sq1,sumo(orderLBa),proq(bq1,sq1,orderLBa,'NM'),\n",
    " bq1,sq1,sumo(orderLSa),proq(bq1,sq1,orderLSa,'NM')]"
   ]
  },
  {
   "cell_type": "code",
   "execution_count": 121,
   "metadata": {},
   "outputs": [
    {
     "data": {
      "image/png": "[encoded data removed]",
      "text/plain": [
       "<Figure size 432x288 with 1 Axes>"
      ]
     },
     "metadata": {},
     "output_type": "display_data"
    }
   ],
   "source": [
    "plotq(bq1,sq1)"
   ]
  },
  {
   "cell_type": "code",
   "execution_count": 122,
   "metadata": {},
   "outputs": [
    {
     "data": {
      "image/png": "[encoded data removed]",
      "text/plain": [
       "<Figure size 432x288 with 1 Axes>"
      ]
     },
     "metadata": {},
     "output_type": "display_data"
    }
   ],
   "source": [
    "plotq({96: 5, 97: 30, 98: 140, 99: 20, 100: 10},\n",
    "  {101: 20, 102: 30, 103: 40, 104: 10, 105: 5})"
   ]
  },
  {
   "cell_type": "code",
   "execution_count": 123,
   "metadata": {},
   "outputs": [
    {
     "data": {
      "image/png": "[encoded data removed]",
      "text/plain": [
       "<Figure size 432x288 with 1 Axes>"
      ]
     },
     "metadata": {},
     "output_type": "display_data"
    }
   ],
   "source": [
    "plotq({96: 5, 97: 30, 98: 40, 99: 20, 100: 10},\n",
    "  {101: 20, 102: 130, 103: 40, 104: 10, 105: 5})"
   ]
  },
  {
   "cell_type": "markdown",
   "metadata": {},
   "source": [
    "### Adding to queue (crossing)"
   ]
  },
  {
   "cell_type": "markdown",
   "metadata": {},
   "source": [
    "#### Pre-matching"
   ]
  },
  {
   "cell_type": "code",
   "execution_count": 84,
   "metadata": {},
   "outputs": [
    {
     "data": {
      "text/plain": [
       "[{96: 5, 97: 30, 98: 40, 99: 20, 100: 10},\n",
       " {101: 20, 102: 30, 103: 40, 104: 10, 105: 5},\n",
       " ['L', 'B', {102: 100}],\n",
       " [{96: 5, 97: 30, 98: 40, 99: 20, 100: 10, 102: 100},\n",
       "  {101: 20, 102: 30, 103: 40, 104: 10, 105: 5},\n",
       "  {},\n",
       "  {},\n",
       "  True],\n",
       " {96: 5, 97: 30, 98: 40, 99: 20, 100: 10},\n",
       " {101: 20, 102: 30, 103: 40, 104: 10, 105: 5},\n",
       " ['L', 'S', {98: 100}],\n",
       " [{96: 5, 97: 30, 98: 40, 99: 20, 100: 10},\n",
       "  {98: 100, 101: 20, 102: 30, 103: 40, 104: 10, 105: 5},\n",
       "  {},\n",
       "  {},\n",
       "  True]]"
      ]
     },
     "execution_count": 84,
     "metadata": {},
     "output_type": "execute_result"
    }
   ],
   "source": [
    "[bq1,sq1,sumo(orderLBm),proq(bq1,sq1,orderLBm,'PM'),\n",
    " bq1,sq1,sumo(orderLSm),proq(bq1,sq1,orderLSm,'PM')]"
   ]
  },
  {
   "cell_type": "code",
   "execution_count": 121,
   "metadata": {},
   "outputs": [
    {
     "data": {
      "image/png": "[encoded data removed]",
      "text/plain": [
       "<Figure size 432x288 with 1 Axes>"
      ]
     },
     "metadata": {},
     "output_type": "display_data"
    }
   ],
   "source": [
    "plotq(bq1,sq1)"
   ]
  },
  {
   "cell_type": "code",
   "execution_count": 124,
   "metadata": {},
   "outputs": [
    {
     "data": {
      "image/png": "[encoded data removed]",
      "text/plain": [
       "<Figure size 432x288 with 1 Axes>"
      ]
     },
     "metadata": {},
     "output_type": "display_data"
    }
   ],
   "source": [
    "plotq({96: 5, 97: 30, 98: 40, 99: 20, 100: 10, 102: 100},\n",
    "  {101: 20, 102: 30, 103: 40, 104: 10, 105: 5})"
   ]
  },
  {
   "cell_type": "code",
   "execution_count": 125,
   "metadata": {},
   "outputs": [
    {
     "data": {
      "image/png": "[encoded data removed]",
      "text/plain": [
       "<Figure size 432x288 with 1 Axes>"
      ]
     },
     "metadata": {},
     "output_type": "display_data"
    }
   ],
   "source": [
    "plotq({96: 5, 97: 30, 98: 40, 99: 20, 100: 10},\n",
    "  {98: 100, 101: 20, 102: 30, 103: 40, 104: 10, 105: 5})"
   ]
  },
  {
   "cell_type": "markdown",
   "metadata": {},
   "source": [
    "### Executing against queue (crossing)"
   ]
  },
  {
   "cell_type": "markdown",
   "metadata": {},
   "source": [
    "#### Normal matching - Limit, balance unfilled at price"
   ]
  },
  {
   "cell_type": "code",
   "execution_count": 85,
   "metadata": {},
   "outputs": [
    {
     "data": {
      "text/plain": [
       "[{96: 5, 97: 30, 98: 40, 99: 20, 100: 10},\n",
       " {101: 20, 102: 30, 103: 40, 104: 10, 105: 5},\n",
       " ['L', 'B', {102: 100}],\n",
       " [{96: 5, 97: 30, 98: 40, 99: 20, 100: 10, 102: 50},\n",
       "  {103: 40, 104: 10, 105: 5},\n",
       "  {101: 20, 102: 30},\n",
       "  {},\n",
       "  True],\n",
       " {96: 5, 97: 30, 98: 40, 99: 20, 100: 10},\n",
       " {101: 20, 102: 30, 103: 40, 104: 10, 105: 5},\n",
       " ['L', 'S', {98: 100}],\n",
       " [{96: 5, 97: 30},\n",
       "  {98: 30, 101: 20, 102: 30, 103: 40, 104: 10, 105: 5},\n",
       "  {98: 40, 99: 20, 100: 10},\n",
       "  {},\n",
       "  True]]"
      ]
     },
     "execution_count": 85,
     "metadata": {},
     "output_type": "execute_result"
    }
   ],
   "source": [
    "[bq1,sq1,sumo(orderLBm),proq(bq1,sq1,orderLBm,'NM'),\n",
    " bq1,sq1,sumo(orderLSm),proq(bq1,sq1,orderLSm,'NM')]"
   ]
  },
  {
   "cell_type": "code",
   "execution_count": 126,
   "metadata": {},
   "outputs": [
    {
     "data": {
      "image/png": "[encoded data removed]",
      "text/plain": [
       "<Figure size 432x288 with 1 Axes>"
      ]
     },
     "metadata": {},
     "output_type": "display_data"
    }
   ],
   "source": [
    "plotq(bq1,sq1)"
   ]
  },
  {
   "cell_type": "code",
   "execution_count": 128,
   "metadata": {},
   "outputs": [
    {
     "data": {
      "image/png": "[encoded data removed]",
      "text/plain": [
       "<Figure size 432x288 with 1 Axes>"
      ]
     },
     "metadata": {},
     "output_type": "display_data"
    }
   ],
   "source": [
    "plotq({96: 5, 97: 30, 98: 40, 99: 20, 100: 10, 101: 0, 102: 50},\n",
    "  {103: 40, 104: 10, 105: 5})"
   ]
  },
  {
   "cell_type": "code",
   "execution_count": 129,
   "metadata": {},
   "outputs": [
    {
     "data": {
      "image/png": "[encoded data removed]",
      "text/plain": [
       "<Figure size 432x288 with 1 Axes>"
      ]
     },
     "metadata": {},
     "output_type": "display_data"
    }
   ],
   "source": [
    "plotq({96: 5, 97: 30},\n",
    "  {98: 30,99: 0, 101: 20, 102: 30, 103: 40, 104: 10, 105: 5})"
   ]
  },
  {
   "cell_type": "markdown",
   "metadata": {},
   "source": [
    "#### Normal matching - Limit, balance filled at price"
   ]
  },
  {
   "cell_type": "code",
   "execution_count": 86,
   "metadata": {},
   "outputs": [
    {
     "data": {
      "text/plain": [
       "[{96: 5, 97: 30, 98: 40, 99: 20, 100: 10},\n",
       " {101: 20, 102: 30, 103: 40, 104: 10, 105: 5},\n",
       " ['L', 'B', {102: 40}],\n",
       " [{96: 5, 97: 30, 98: 40, 99: 20, 100: 10},\n",
       "  {102: 10, 103: 40, 104: 10, 105: 5},\n",
       "  {101: 20, 102: 20},\n",
       "  {},\n",
       "  True],\n",
       " {96: 5, 97: 30, 98: 40, 99: 20, 100: 10},\n",
       " {101: 20, 102: 30, 103: 40, 104: 10, 105: 5},\n",
       " ['L', 'S', {98: 40}],\n",
       " [{96: 5, 97: 30, 98: 30},\n",
       "  {101: 20, 102: 30, 103: 40, 104: 10, 105: 5},\n",
       "  {98: 10, 99: 20, 100: 10},\n",
       "  {},\n",
       "  True]]"
      ]
     },
     "execution_count": 86,
     "metadata": {},
     "output_type": "execute_result"
    }
   ],
   "source": [
    "[bq1,sq1,sumo(orderLBmt),proq(bq1,sq1,orderLBmt,'NM'),\n",
    " bq1,sq1,sumo(orderLSmt),proq(bq1,sq1,orderLSmt,'NM')]"
   ]
  },
  {
   "cell_type": "code",
   "execution_count": 126,
   "metadata": {},
   "outputs": [
    {
     "data": {
      "image/png": "[encoded data removed]",
      "text/plain": [
       "<Figure size 432x288 with 1 Axes>"
      ]
     },
     "metadata": {},
     "output_type": "display_data"
    }
   ],
   "source": [
    "plotq(bq1,sq1)"
   ]
  },
  {
   "cell_type": "code",
   "execution_count": 130,
   "metadata": {},
   "outputs": [
    {
     "data": {
      "image/png": "[encoded data removed]",
      "text/plain": [
       "<Figure size 432x288 with 1 Axes>"
      ]
     },
     "metadata": {},
     "output_type": "display_data"
    }
   ],
   "source": [
    "plotq({96: 5, 97: 30, 98: 40, 99: 20, 100: 10},\n",
    "  {101: 0, 102: 10, 103: 40, 104: 10, 105: 5})"
   ]
  },
  {
   "cell_type": "code",
   "execution_count": 131,
   "metadata": {},
   "outputs": [
    {
     "data": {
      "image/png": "[encoded data removed]",
      "text/plain": [
       "<Figure size 432x288 with 1 Axes>"
      ]
     },
     "metadata": {},
     "output_type": "display_data"
    }
   ],
   "source": [
    "plotq({96: 5, 97: 30, 98: 30, 99: 0, 100: 0},\n",
    "  {101: 20, 102: 30, 103: 40, 104: 10, 105: 5})"
   ]
  },
  {
   "cell_type": "markdown",
   "metadata": {},
   "source": [
    "#### Normal matching - Market, amount filled"
   ]
  },
  {
   "cell_type": "code",
   "execution_count": 87,
   "metadata": {},
   "outputs": [
    {
     "data": {
      "text/plain": [
       "[{96: 5, 97: 30, 98: 40, 99: 20, 100: 10},\n",
       " {101: 20, 102: 30, 103: 40, 104: 10, 105: 5},\n",
       " ['M', 'B', {0: 65}],\n",
       " [{96: 5, 97: 30, 98: 40, 99: 20, 100: 10},\n",
       "  {103: 25, 104: 10, 105: 5},\n",
       "  {101: 20, 102: 30, 103: 15},\n",
       "  {},\n",
       "  True],\n",
       " {96: 5, 97: 30, 98: 40, 99: 20, 100: 10},\n",
       " {101: 20, 102: 30, 103: 40, 104: 10, 105: 5},\n",
       " ['M', 'S', {0: 65}],\n",
       " [{96: 5, 97: 30, 98: 5},\n",
       "  {101: 20, 102: 30, 103: 40, 104: 10, 105: 5},\n",
       "  {98: 35, 99: 20, 100: 10},\n",
       "  {},\n",
       "  True]]"
      ]
     },
     "execution_count": 87,
     "metadata": {},
     "output_type": "execute_result"
    }
   ],
   "source": [
    "[bq1,sq1,sumo(orderMB),proq(bq1,sq1,orderMB,'NM'),\n",
    " bq1,sq1,sumo(orderMS),proq(bq1,sq1,orderMS,'NM')]"
   ]
  },
  {
   "cell_type": "code",
   "execution_count": 126,
   "metadata": {},
   "outputs": [
    {
     "data": {
      "image/png": "[encoded data removed]",
      "text/plain": [
       "<Figure size 432x288 with 1 Axes>"
      ]
     },
     "metadata": {},
     "output_type": "display_data"
    }
   ],
   "source": [
    "plotq(bq1,sq1)"
   ]
  },
  {
   "cell_type": "code",
   "execution_count": 132,
   "metadata": {},
   "outputs": [
    {
     "data": {
      "image/png": "[encoded data removed]",
      "text/plain": [
       "<Figure size 432x288 with 1 Axes>"
      ]
     },
     "metadata": {},
     "output_type": "display_data"
    }
   ],
   "source": [
    "plotq({96: 5, 97: 30, 98: 40, 99: 20, 100: 10},\n",
    "  {101: 0, 102: 0, 103: 25, 104: 10, 105: 5})"
   ]
  },
  {
   "cell_type": "code",
   "execution_count": 133,
   "metadata": {},
   "outputs": [
    {
     "data": {
      "image/png": "[encoded data removed]",
      "text/plain": [
       "<Figure size 432x288 with 1 Axes>"
      ]
     },
     "metadata": {},
     "output_type": "display_data"
    }
   ],
   "source": [
    "plotq({96: 5, 97: 30, 98: 5, 99: 0, 100: 0},\n",
    "  {101: 20, 102: 30, 103: 40, 104: 10, 105: 5})"
   ]
  },
  {
   "cell_type": "markdown",
   "metadata": {},
   "source": [
    "#### Normal matching - Market, amount unfilled \n",
    "####   Returns hanging trade and False"
   ]
  },
  {
   "cell_type": "code",
   "execution_count": 88,
   "metadata": {},
   "outputs": [
    {
     "data": {
      "text/plain": [
       "[{96: 5, 97: 30, 98: 40, 99: 20, 100: 10},\n",
       " {101: 20, 102: 30, 103: 40, 104: 10, 105: 5},\n",
       " ['M', 'B', {0: 120}],\n",
       " [{96: 5, 97: 30, 98: 40, 99: 20, 100: 10},\n",
       "  {},\n",
       "  {101: 20, 102: 30, 103: 40, 104: 10, 105: 5},\n",
       "  {'Date': '2018-03-01',\n",
       "   'Direction': 'B',\n",
       "   'OrderCaracteristics': 1,\n",
       "   'OrderId': 1,\n",
       "   'OrderType': 'M',\n",
       "   'Price': 0,\n",
       "   'Quantity': 15,\n",
       "   'Trader': 1},\n",
       "  False],\n",
       " {96: 5, 97: 30, 98: 40, 99: 20, 100: 10},\n",
       " {101: 20, 102: 30, 103: 40, 104: 10, 105: 5},\n",
       " ['M', 'S', {0: 120}],\n",
       " [{},\n",
       "  {101: 20, 102: 30, 103: 40, 104: 10, 105: 5},\n",
       "  {96: 5, 97: 30, 98: 40, 99: 20, 100: 10},\n",
       "  {'Date': '2018-03-01',\n",
       "   'Direction': 'S',\n",
       "   'OrderCaracteristics': 1,\n",
       "   'OrderId': 1,\n",
       "   'OrderType': 'M',\n",
       "   'Price': 0,\n",
       "   'Quantity': 15,\n",
       "   'Trader': 1},\n",
       "  False]]"
      ]
     },
     "execution_count": 88,
     "metadata": {},
     "output_type": "execute_result"
    }
   ],
   "source": [
    "[bq1,sq1,sumo(orderMBt),proq(bq1,sq1,orderMBt,'NM'),\n",
    " bq1,sq1,sumo(orderMSt),proq(bq1,sq1,orderMSt,'NM')]"
   ]
  },
  {
   "cell_type": "markdown",
   "metadata": {},
   "source": [
    "#### Normal matching - Cancel, amount cancelled"
   ]
  },
  {
   "cell_type": "code",
   "execution_count": 89,
   "metadata": {},
   "outputs": [
    {
     "data": {
      "text/plain": [
       "[{96: 5, 97: 30, 98: 40, 99: 20, 100: 10},\n",
       " {101: 20, 102: 30, 103: 40, 104: 10, 105: 5},\n",
       " ['C', 'B', {98: 35}],\n",
       " [{96: 5, 97: 30, 98: 5, 99: 20, 100: 10},\n",
       "  {101: 20, 102: 30, 103: 40, 104: 10, 105: 5},\n",
       "  {},\n",
       "  {},\n",
       "  True],\n",
       " {96: 5, 97: 30, 98: 40, 99: 20, 100: 10},\n",
       " {101: 20, 102: 30, 103: 40, 104: 10, 105: 5},\n",
       " ['C', 'S', {103: 35}],\n",
       " [{96: 5, 97: 30, 98: 40, 99: 20, 100: 10},\n",
       "  {101: 20, 102: 30, 103: 5, 104: 10, 105: 5},\n",
       "  {},\n",
       "  {},\n",
       "  True]]"
      ]
     },
     "execution_count": 89,
     "metadata": {},
     "output_type": "execute_result"
    }
   ],
   "source": [
    "[bq1,sq1,sumo(orderCBT),proq(bq1,sq1,orderCBT,'NM'),\n",
    " bq1,sq1,sumo(orderCST),proq(bq1,sq1,orderCST,'NM')]"
   ]
  },
  {
   "cell_type": "markdown",
   "metadata": {},
   "source": [
    "#### Normal matching - Cancel, amount greater than available \n",
    "####   Returns the cancel order and False"
   ]
  },
  {
   "cell_type": "code",
   "execution_count": 90,
   "metadata": {},
   "outputs": [
    {
     "data": {
      "text/plain": [
       "[{96: 5, 97: 30, 98: 40, 99: 20, 100: 10},\n",
       " {101: 20, 102: 30, 103: 40, 104: 10, 105: 5},\n",
       " ['C', 'B', {99: 35}],\n",
       " [{96: 5, 97: 30, 98: 40, 99: 20, 100: 10},\n",
       "  {101: 20, 102: 30, 103: 40, 104: 10, 105: 5},\n",
       "  {},\n",
       "  {'Date': '2018-03-01',\n",
       "   'Direction': 'B',\n",
       "   'OrderCaracteristics': 1,\n",
       "   'OrderId': 1,\n",
       "   'OrderType': 'C',\n",
       "   'Price': 99,\n",
       "   'Quantity': 35,\n",
       "   'Trader': 1},\n",
       "  False],\n",
       " {96: 5, 97: 30, 98: 40, 99: 20, 100: 10},\n",
       " {101: 20, 102: 30, 103: 40, 104: 10, 105: 5},\n",
       " ['C', 'S', {102: 35}],\n",
       " [{96: 5, 97: 30, 98: 40, 99: 20, 100: 10},\n",
       "  {101: 20, 102: 30, 103: 40, 104: 10, 105: 5},\n",
       "  {},\n",
       "  {'Date': '2018-03-01',\n",
       "   'Direction': 'S',\n",
       "   'OrderCaracteristics': 1,\n",
       "   'OrderId': 1,\n",
       "   'OrderType': 'C',\n",
       "   'Price': 102,\n",
       "   'Quantity': 35,\n",
       "   'Trader': 1},\n",
       "  False]]"
      ]
     },
     "execution_count": 90,
     "metadata": {},
     "output_type": "execute_result"
    }
   ],
   "source": [
    "[bq1,sq1,sumo(orderCBF1),proq(bq1,sq1,orderCBF1,'NM'),\n",
    " bq1,sq1,sumo(orderCSF1),proq(bq1,sq1,orderCSF1,'NM')]"
   ]
  },
  {
   "cell_type": "markdown",
   "metadata": {},
   "source": [
    "#### Normal matching - Cancel, no amount at price \n",
    "####   Returns the cancel order and False"
   ]
  },
  {
   "cell_type": "code",
   "execution_count": 91,
   "metadata": {},
   "outputs": [
    {
     "data": {
      "text/plain": [
       "[{96: 5, 97: 30, 98: 40, 99: 20, 100: 10},\n",
       " {101: 20, 102: 30, 103: 40, 104: 10, 105: 5},\n",
       " ['C', 'B', {90: 35}],\n",
       " [{96: 5, 97: 30, 98: 40, 99: 20, 100: 10},\n",
       "  {101: 20, 102: 30, 103: 40, 104: 10, 105: 5},\n",
       "  {},\n",
       "  {'Date': '2018-03-01',\n",
       "   'Direction': 'B',\n",
       "   'OrderCaracteristics': 1,\n",
       "   'OrderId': 1,\n",
       "   'OrderType': 'C',\n",
       "   'Price': 90,\n",
       "   'Quantity': 35,\n",
       "   'Trader': 1},\n",
       "  False],\n",
       " {96: 5, 97: 30, 98: 40, 99: 20, 100: 10},\n",
       " {101: 20, 102: 30, 103: 40, 104: 10, 105: 5},\n",
       " ['C', 'S', {110: 35}],\n",
       " [{96: 5, 97: 30, 98: 40, 99: 20, 100: 10},\n",
       "  {101: 20, 102: 30, 103: 40, 104: 10, 105: 5},\n",
       "  {},\n",
       "  {'Date': '2018-03-01',\n",
       "   'Direction': 'S',\n",
       "   'OrderCaracteristics': 1,\n",
       "   'OrderId': 1,\n",
       "   'OrderType': 'C',\n",
       "   'Price': 110,\n",
       "   'Quantity': 35,\n",
       "   'Trader': 1},\n",
       "  False]]"
      ]
     },
     "execution_count": 91,
     "metadata": {},
     "output_type": "execute_result"
    }
   ],
   "source": [
    "[bq1,sq1,sumo(orderCBF2),proq(bq1,sq1,orderCBF2,'NM'),\n",
    " bq1,sq1,sumo(orderCSF2),proq(bq1,sq1,orderCSF2,'NM')]"
   ]
  }
 ],
 "metadata": {
  "kernelspec": {
   "display_name": "Python 3",
   "language": "python",
   "name": "python3"
  },
  "language_info": {
   "codemirror_mode": {
    "name": "ipython",
    "version": 3
   },
   "file_extension": ".py",
   "mimetype": "text/x-python",
   "name": "python",
   "nbconvert_exporter": "python",
   "pygments_lexer": "ipython3",
   "version": "3.6.4"
  }
 },
 "nbformat": 4,
 "nbformat_minor": 2
}
